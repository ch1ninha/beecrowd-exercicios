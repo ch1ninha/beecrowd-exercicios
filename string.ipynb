{
 "cells": [
  {
   "cell_type": "code",
   "execution_count": 11,
   "id": "2d5adeea-4481-42c9-851b-5076378fffbc",
   "metadata": {},
   "outputs": [
    {
     "name": "stdin",
     "output_type": "stream",
     "text": [
      " 2\n",
      " 115380\n"
     ]
    },
    {
     "name": "stdout",
     "output_type": "stream",
     "text": [
      "27 leds\n"
     ]
    },
    {
     "name": "stdin",
     "output_type": "stream",
     "text": [
      " 2819311\n"
     ]
    },
    {
     "name": "stdout",
     "output_type": "stream",
     "text": [
      "29 leds\n"
     ]
    }
   ],
   "source": [
    "# 1668\n",
    "\n",
    "dic_pontos = {\n",
    "    \"0\":6,\n",
    "    \"1\":2,\n",
    "    \"2\":5,\n",
    "    \"3\":5,\n",
    "    \"4\":4,\n",
    "    \"5\":5,\n",
    "    \"6\":6,\n",
    "    \"7\":3,\n",
    "    \"8\":7,\n",
    "    \"9\":6,\n",
    "}\n",
    "\n",
    "rep = int(input())\n",
    "c = 0\n",
    "\n",
    "while rep > c:\n",
    "    entrada = input()\n",
    "    resposta = 0\n",
    "    for ite_input in entrada:\n",
    "        resposta += dic_pontos[ite_input]\n",
    "    print(\"{} leds\".format(resposta))\n",
    "    c += 1"
   ]
  },
  {
   "cell_type": "code",
   "execution_count": 32,
   "id": "439a7454-8d79-4cec-90b3-911e56b16676",
   "metadata": {},
   "outputs": [
    {
     "name": "stdin",
     "output_type": "stream",
     "text": [
      " 1\n",
      " texto\n"
     ]
    },
    {
     "name": "stdout",
     "output_type": "stream",
     "text": [
      "wh{wr\n",
      "o\n"
     ]
    }
   ],
   "source": [
    "# 1024 - criptografia\n",
    "\n",
    "rep = int(input())\n",
    "\n",
    "c = 0\n",
    "\n",
    "while rep > c:\n",
    "    entrada = list(input())\n",
    "    \n",
    "    # 1 passada\n",
    "    pos_entrada = \"\"\n",
    "    for letra in entrada:\n",
    "        pos_entrada += \"\".join(chr(ord(letra) + 3))\n",
    "        #print(entrada)\n",
    "        \n",
    "    # 2 passada\n",
    "    pos_entrada = pos_entrada[::-1]\n",
    "    \n",
    "    # 3 passada\n",
    "    print(pos_entrada)\n",
    "    print(\"o\")\n",
    "    c += 1"
   ]
  },
  {
   "cell_type": "code",
   "execution_count": 21,
   "id": "e7f39d03-976a-49b3-bd1d-a7f45754eeff",
   "metadata": {},
   "outputs": [
    {
     "name": "stdin",
     "output_type": "stream",
     "text": [
      " oi\n"
     ]
    },
    {
     "name": "stdout",
     "output_type": "stream",
     "text": [
      "['o', 'i']\n"
     ]
    }
   ],
   "source": [
    "entrada = list(input())\n",
    "chr(ord(\"E\") + 3)\n",
    "\n",
    "print(entrada)"
   ]
  },
  {
   "cell_type": "code",
   "execution_count": 33,
   "id": "e8e48943-ae0a-4f99-beb9-c3be199d3206",
   "metadata": {},
   "outputs": [
    {
     "data": {
      "text/plain": [
       "'ba'"
      ]
     },
     "execution_count": 33,
     "metadata": {},
     "output_type": "execute_result"
    }
   ],
   "source": [
    "vazio = \"\"\n",
    "vazio = vazio.join(\"ab\")\n",
    "vazio[::-1]"
   ]
  },
  {
   "cell_type": "code",
   "execution_count": null,
   "id": "2f6a3fa0-4be3-467d-91c0-e14f27cb6cc8",
   "metadata": {},
   "outputs": [],
   "source": []
  }
 ],
 "metadata": {
  "kernelspec": {
   "display_name": "Python 3 (ipykernel)",
   "language": "python",
   "name": "python3"
  },
  "language_info": {
   "codemirror_mode": {
    "name": "ipython",
    "version": 3
   },
   "file_extension": ".py",
   "mimetype": "text/x-python",
   "name": "python",
   "nbconvert_exporter": "python",
   "pygments_lexer": "ipython3",
   "version": "3.9.7"
  }
 },
 "nbformat": 4,
 "nbformat_minor": 5
}
