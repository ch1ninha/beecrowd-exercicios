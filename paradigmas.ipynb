{
 "cells": [
  {
   "cell_type": "code",
   "execution_count": 20,
   "id": "cdd7909f-b168-4844-884e-9addc4ca2234",
   "metadata": {},
   "outputs": [
    {
     "name": "stdin",
     "output_type": "stream",
     "text": [
      " 2\n",
      " 5\n"
     ]
    },
    {
     "name": "stdout",
     "output_type": "stream",
     "text": [
      "fib(5) = 14 calls = 5\n"
     ]
    },
    {
     "name": "stdin",
     "output_type": "stream",
     "text": [
      " 4\n"
     ]
    },
    {
     "name": "stdout",
     "output_type": "stream",
     "text": [
      "fib(4) = 8 calls = 3\n"
     ]
    }
   ],
   "source": [
    "#### 1029 - Fibonacci, Quantas Chamadas?\n",
    "call = 0\n",
    "def f(n):\n",
    "    global call\n",
    "    if n == 0:\n",
    "        call += 1\n",
    "        return 0\n",
    "    elif n == 1:\n",
    "        call += 1\n",
    "        return 1\n",
    "    else:\n",
    "        call += 1\n",
    "        return f(n-1) + f(n-2)\n",
    "    \n",
    "    \n",
    "repeticoes = int(input())\n",
    "for i in range(repeticoes):\n",
    "    call = 0\n",
    "    fibo = int(input())\n",
    "    res = f(fibo)\n",
    "    print(f\"fib({fibo}) = {call-1} calls = {res}\")"
   ]
  },
  {
   "cell_type": "code",
   "execution_count": 44,
   "id": "b14effb3-4c58-452a-b5ea-c73cde983af6",
   "metadata": {},
   "outputs": [
    {
     "name": "stdout",
     "output_type": "stream",
     "text": [
      "2 | 2 | 1.4142135623730951\n",
      "3 | 4 | 2.0\n",
      "4 | 8 | 2.8284271247461903\n",
      "5 | 14 | 3.7416573867739413\n",
      "6 | 24 | 4.898979485566356\n",
      "7 | 40 | 6.324555320336759\n",
      "8 | 66 | 8.12403840463596\n",
      "9 | 108 | 10.392304845413264\n"
     ]
    }
   ],
   "source": [
    "call = 0\n",
    "def f(n):\n",
    "    global call\n",
    "    call += 1\n",
    "    if n == 0:\n",
    "        return 0\n",
    "    elif n == 1:\n",
    "        return 1\n",
    "    else:\n",
    "        return f(n-1) + f(n-2)\n",
    "\n",
    "for i in range(2,10):\n",
    "    call = 0\n",
    "    f(i)\n",
    "    print(f\"{i} | {call-1} | {(call-1)**0.5}\")"
   ]
  },
  {
   "cell_type": "code",
   "execution_count": 48,
   "id": "d91cefaf-8735-4e59-a8e3-561f716eab8c",
   "metadata": {},
   "outputs": [
    {
     "name": "stdout",
     "output_type": "stream",
     "text": [
      "1 * 1\n",
      "2 * 4\n",
      "3 * 27\n",
      "4 * 256\n",
      "5 * 3125\n",
      "6 * 46656\n",
      "7 * 823543\n",
      "8 * 16777216\n",
      "9 * 387420489\n"
     ]
    }
   ],
   "source": [
    "for i in range(1,10):\n",
    "    print(f\"{i} * {i**i}\")"
   ]
  },
  {
   "cell_type": "code",
   "execution_count": null,
   "id": "109af68d-8732-46ea-a11a-c8c0eee27a3b",
   "metadata": {},
   "outputs": [],
   "source": []
  }
 ],
 "metadata": {
  "kernelspec": {
   "display_name": "Python 3 (ipykernel)",
   "language": "python",
   "name": "python3"
  },
  "language_info": {
   "codemirror_mode": {
    "name": "ipython",
    "version": 3
   },
   "file_extension": ".py",
   "mimetype": "text/x-python",
   "name": "python",
   "nbconvert_exporter": "python",
   "pygments_lexer": "ipython3",
   "version": "3.10.1"
  }
 },
 "nbformat": 4,
 "nbformat_minor": 5
}
