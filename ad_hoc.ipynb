{
 "cells": [
  {
   "cell_type": "code",
   "execution_count": 1,
   "id": "14ae741d-7da3-4e87-a6fb-028df0386ac9",
   "metadata": {},
   "outputs": [
    {
     "name": "stdin",
     "output_type": "stream",
     "text": [
      " 25\n"
     ]
    },
    {
     "name": "stdout",
     "output_type": "stream",
     "text": [
      "100\n"
     ]
    }
   ],
   "source": [
    "# 2413 - Busca na Internet\n",
    "\n",
    "cliques = int(input()) * 4\n",
    "\n",
    "print(cliques)"
   ]
  },
  {
   "cell_type": "code",
   "execution_count": 2,
   "id": "0283cdcd-3a05-4580-bb5e-c0c06bc4b317",
   "metadata": {},
   "outputs": [
    {
     "name": "stdin",
     "output_type": "stream",
     "text": [
      " 30\n",
      " 12\n"
     ]
    },
    {
     "name": "stdout",
     "output_type": "stream",
     "text": [
      "18\n"
     ]
    }
   ],
   "source": [
    "# 2374 - Pneu\n",
    "\n",
    "desejada = int(input())\n",
    "atual = int(input())\n",
    "\n",
    "print(desejada - atual)"
   ]
  },
  {
   "cell_type": "code",
   "execution_count": null,
   "id": "5a59f493-f320-45dc-b69d-cd77d9baba27",
   "metadata": {},
   "outputs": [],
   "source": []
  }
 ],
 "metadata": {
  "kernelspec": {
   "display_name": "Python 3 (ipykernel)",
   "language": "python",
   "name": "python3"
  },
  "language_info": {
   "codemirror_mode": {
    "name": "ipython",
    "version": 3
   },
   "file_extension": ".py",
   "mimetype": "text/x-python",
   "name": "python",
   "nbconvert_exporter": "python",
   "pygments_lexer": "ipython3",
   "version": "3.10.1"
  }
 },
 "nbformat": 4,
 "nbformat_minor": 5
}
