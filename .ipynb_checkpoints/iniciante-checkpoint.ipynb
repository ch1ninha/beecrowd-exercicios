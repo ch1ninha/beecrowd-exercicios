{
 "cells": [
  {
   "cell_type": "markdown",
   "metadata": {},
   "source": [
    "<h1>EXERCICIOS</h1>"
   ]
  },
  {
   "cell_type": "code",
   "execution_count": null,
   "metadata": {},
   "outputs": [],
   "source": [
    "#triangulo 1043\n",
    "A = input().split()\n",
    "\n",
    "a = float(A[0])\n",
    "b = float(A[1])\n",
    "c = float(A[2])\n",
    "\n",
    "if a < b + c and b < c + a and c < a + b:\n",
    "    resultado = a + b + c\n",
    "    print('Perimetro = {:.1f}'.format(resultado))\n",
    "else:\n",
    "    area = round(((a+b)/2)*c,1)\n",
    "    print(\"Area = {}\".format(area))"
   ]
  },
  {
   "cell_type": "code",
   "execution_count": null,
   "metadata": {},
   "outputs": [],
   "source": [
    "# 1045 - Tipos de Triângulos\n",
    "A = input().split()\n",
    "lista = []\n",
    "for num in A:\n",
    "    num = float(num)\n",
    "    lista.append(num)\n",
    "\n",
    "for j in range(1,len(lista)):\n",
    "    chave = lista[j]\n",
    "    i = j-1\n",
    "    while i>=0 and chave<lista[i]:\n",
    "        lista[i+1] = lista[i]\n",
    "        i = i - 1\n",
    "    lista[i+1] = chave\n",
    "\n",
    "a = lista[2]\n",
    "b = lista[1]\n",
    "c = lista[0]\n",
    "for teste in range(0,1):\n",
    "    if a >= (b+c):\n",
    "        print(\"NAO FORMA TRIANGULO\")\n",
    "        break\n",
    "    if (a**2) == ((b**2)+(c**2)):\n",
    "        print(\"TRIANGULO RETANGULO\")\n",
    "    if (a**2) > ((b**2)+(c**2)):\n",
    "        print(\"TRIANGULO OBTUSANGULO\")\n",
    "    if (a**2) < ((b**2)+(c**2)):\n",
    "        print(\"TRIANGULO ACUTANGULO\")\n",
    "    if a == b and a == c and b == c:\n",
    "        print(\"TRIANGULO EQUILATERO\")\n",
    "    for i in range(0,3):\n",
    "        if a == b or a == c:\n",
    "            if b != c:\n",
    "                print(\"TRIANGULO ISOSCELES\")\n",
    "                break\n",
    "        if b == c or b == a:\n",
    "            if a != c:\n",
    "                print(\"TRIANGULO ISOSCELES\")\n",
    "                break\n",
    "        if c == a or c == b:\n",
    "            if b != a:\n",
    "                print(\"TRIANGULO ISOSCELES\")\n",
    "                break"
   ]
  },
  {
   "cell_type": "code",
   "execution_count": null,
   "metadata": {},
   "outputs": [],
   "source": [
    "# Exercicio 1046\n",
    "A = input().split()\n",
    "\n",
    "a = int(A[0])\n",
    "b = int(A[1])\n",
    "\n",
    "if a > b:\n",
    "    hora = (24 - a) + b\n",
    "    print(\"O JOGO DUROU {} HORA(S)\".format(hora))\n",
    "elif a < b:\n",
    "    hora = b - a\n",
    "    print(\"O JOGO DUROU {} HORA(S)\".format(hora))\n",
    "elif a == b:\n",
    "    print(\"O JOGO DUROU 24 HORA(S)\")"
   ]
  },
  {
   "cell_type": "code",
   "execution_count": null,
   "metadata": {},
   "outputs": [],
   "source": [
    "# exercicio 1047\n",
    "A = input().split()\n",
    "\n",
    "horaA = int(A[0])\n",
    "minA = int(A[1])\n",
    "horaB = int(A[2])\n",
    "minB = int(A[3])\n",
    "\n",
    "if horaA > horaB:\n",
    "    if minA > minB:\n",
    "        horaR = ((24 - horaA) + horaB ) - 1\n",
    "        minR = (60 - minA) + minB\n",
    "        print(\"O JOGO DUROU {} HORA(S) E {} MINUTO(S)\".format(horaR,minR))\n",
    "    elif minB > minA:\n",
    "        horaR = (24 - horaA) + horaB\n",
    "        minR = minB - minA\n",
    "        print(\"O JOGO DUROU {} HORA(S) E {} MINUTO(S)\".format(horaR,minR))\n",
    "    elif minA == minB:\n",
    "        horaR = (24 - horaA) + horaB\n",
    "        minR = 0\n",
    "        print(\"O JOGO DUROU {} HORA(S) E {} MINUTO(S)\".format(horaR,minR))\n",
    "elif horaB > horaA:\n",
    "    if minB > minA:\n",
    "        horaR = horaB - horaA\n",
    "        minR = minB - minA\n",
    "        print(\"O JOGO DUROU {} HORA(S) E {} MINUTO(S)\".format(horaR,minR))\n",
    "    elif minA > minB:\n",
    "        horaR = (horaB - horaA) - 1\n",
    "        minR = (60 - minA) + minB\n",
    "        print(\"O JOGO DUROU {} HORA(S) E {} MINUTO(S)\".format(horaR,minR))\n",
    "    elif minA == minB:\n",
    "        horaR = horaB - horaA\n",
    "        minR = 0\n",
    "        print(\"O JOGO DUROU {} HORA(S) E {} MINUTO(S)\".format(horaR,minR))\n",
    "elif horaA == horaB:\n",
    "    if minB > minA:\n",
    "        minR = minB - minA\n",
    "        horaR = 0\n",
    "        print(\"O JOGO DUROU {} HORA(S) E {} MINUTO(S)\".format(horaR,minR))\n",
    "    elif minA > minB:\n",
    "        horaR = 23\n",
    "        minR = (60-minA) + minB\n",
    "        print(\"O JOGO DUROU {} HORA(S) E {} MINUTO(S)\".format(horaR,minR))\n",
    "    elif minA == minB:\n",
    "        horaR = 24\n",
    "        minR = 0\n",
    "        print(\"O JOGO DUROU {} HORA(S) E {} MINUTO(S)\".format(horaR,minR))"
   ]
  },
  {
   "cell_type": "code",
   "execution_count": null,
   "metadata": {},
   "outputs": [],
   "source": [
    "#exercicio 1048\n",
    "salario = float(input())\n",
    "\n",
    "if salario > 0 and salario <= 400:\n",
    "    perc = 15\n",
    "    rea = round(salario * (perc / 100),2)\n",
    "    novoSal = round(rea + salario,2)\n",
    "    print(\"Novo salario: {:.2f}\".format(novoSal))\n",
    "    print(\"Reajuste ganho: {:.2f}\".format(rea))\n",
    "    print(\"Em percentual: {} %\".format(perc))\n",
    "elif salario > 400 and salario <= 800:\n",
    "    perc = 12\n",
    "    rea = round(salario * (perc / 100),2)\n",
    "    novoSal = round(rea + salario,2)\n",
    "    print(\"Novo salario: {:.2f}\".format(novoSal))\n",
    "    print(\"Reajuste ganho: {:.2f}\".format(rea))\n",
    "    print(\"Em percentual: {} %\".format(perc))\n",
    "elif salario > 800 and salario <= 1200:\n",
    "    perc = 10\n",
    "    rea = round(salario * (perc / 100),2)\n",
    "    novoSal = round(rea + salario,2)\n",
    "    print(\"Novo salario: {:.2f}\".format(novoSal))\n",
    "    print(\"Reajuste ganho: {:.2f}\".format(rea))\n",
    "    print(\"Em percentual: {} %\".format(perc))\n",
    "elif salario > 1200 and salario <= 2000:\n",
    "    perc = 7\n",
    "    rea = round(salario * (perc / 100),2)\n",
    "    novoSal = round(rea + salario,2)\n",
    "    print(\"Novo salario: {:.2f}\".format(novoSal))\n",
    "    print(\"Reajuste ganho: {:.2f}\".format(rea))\n",
    "    print(\"Em percentual: {} %\".format(perc))\n",
    "elif salario > 2000:\n",
    "    perc = 4\n",
    "    rea = round(salario * (perc / 100),2)\n",
    "    novoSal = round(rea + salario,2)\n",
    "    print(\"Novo salario: {:.2f}\".format(novoSal))\n",
    "    print(\"Reajuste ganho: {:.2f}\".format(rea))\n",
    "    print(\"Em percentual: {} %\".format(perc)) "
   ]
  },
  {
   "cell_type": "code",
   "execution_count": null,
   "metadata": {},
   "outputs": [],
   "source": [
    "# exercicio 1049\n",
    "carac1 = input()\n",
    "carac2 = input()\n",
    "carac3 = input()\n",
    "\n",
    "animais = {\"aguia\":[\"vertebrado\",\"ave\",\"carnivoro\"],\n",
    "           \"pomba\":[\"vertebrado\",\"ave\",\"onivoro\"],\n",
    "           \"homem\":[\"vertebrado\",\"mamifero\",\"onivoro\"],\n",
    "           \"vaca\":[\"vertebrado\",\"mamifero\",\"herbivoro\"],\n",
    "           \"pulga\":[\"invertebrado\",\"inseto\",\"hematofago\"],\n",
    "           \"lagarta\":[\"invertebrado\",\"inseto\",\"herbivoro\"],\n",
    "           \"sanguessuga\":[\"invertebrado\",\"anelideo\",\"hematofago\"],\n",
    "           \"minhoca\":[\"invertebrado\",\"anelideo\",\"onivoro\"]\n",
    "          }\n",
    "for chaves in animais:\n",
    "    for skills in animais[f\"{chaves}\"]:\n",
    "        #print(f\"skills: {skills}\")\n",
    "        if carac1 == skills:\n",
    "            if carac2 == animais[f\"{chaves}\"][1]:\n",
    "                if carac3 == animais[f\"{chaves}\"][2]:\n",
    "                    print(chaves)"
   ]
  },
  {
   "cell_type": "code",
   "execution_count": null,
   "metadata": {},
   "outputs": [],
   "source": [
    "#exercicio 1050\n",
    "ddd = int(input())\n",
    "\n",
    "cidades =  {61:\"Brasilia\",\n",
    "            71:\"Salvador\",\n",
    "            11:\"Sao Paulo\",\n",
    "            21:\"Rio de Janeiro\",\n",
    "            32:\"Juiz de Fora\",\n",
    "            19:\"Campinas\",\n",
    "            27:\"Vitoria\",\n",
    "            31:\"Belo Horizonte\"}\n",
    "if ddd not in cidades.keys():\n",
    "    print(\"DDD nao cadastrado\")\n",
    "\n",
    "for num_city in cidades:\n",
    "    if num_city == ddd:\n",
    "        print(cidades[int(f\"{num_city}\")])\n",
    "        break"
   ]
  },
  {
   "cell_type": "code",
   "execution_count": null,
   "metadata": {},
   "outputs": [],
   "source": [
    "#exercicio 1051\n",
    "salario = float(input())\n",
    "\n",
    "if salario <= 2000:\n",
    "    print(\"Isento\")\n",
    "elif salario <= 3000:\n",
    "    taxa8 = salario % 2000\n",
    "    taxa = taxa8 * 0.08\n",
    "    print(\"R$ {:.2f}\".format(taxa))\n",
    "elif salario > 3000 and salario <= 4500:\n",
    "    taxa8 = 1000\n",
    "    taxa18 = salario % 3000\n",
    "    taxa = (taxa8 * 0.08) + (taxa18 * 0.18)\n",
    "    print(\"R$ {:.2f}\".format(taxa))\n",
    "elif salario > 4500:\n",
    "    taxa8 = 1000\n",
    "    taxa18 = 1500\n",
    "    taxa28 = salario - (taxa8 + taxa18 + 2000)\n",
    "    taxa = (taxa8 * 0.08) + (taxa18 * 0.18) + (taxa28 * 0.28)\n",
    "    print(\"R$ {:.2f}\".format(taxa))"
   ]
  },
  {
   "cell_type": "code",
   "execution_count": null,
   "metadata": {},
   "outputs": [],
   "source": [
    "#exercicio 1052\n",
    "mes = int(input())\n",
    "meses = {\n",
    "    1: \"January\",\n",
    "    2: \"February\",\n",
    "    3: \"March\",\n",
    "    4: \"April\",\n",
    "    5: \"May\",\n",
    "    6: \"June\",\n",
    "    7: \"July\",\n",
    "    8: \"August\",\n",
    "    9: \"September\",\n",
    "    10: \"October\",\n",
    "    11: \"November\",\n",
    "    12: \"December\"\n",
    "    }\n",
    "\n",
    "for i in meses:\n",
    "    if i == mes:\n",
    "        print(meses[int(f\"{i}\")])"
   ]
  },
  {
   "cell_type": "code",
   "execution_count": null,
   "metadata": {},
   "outputs": [],
   "source": [
    "#exercicio 1059\n",
    "for i in range(2,101,2):\n",
    "    print(i)"
   ]
  },
  {
   "cell_type": "code",
   "execution_count": null,
   "metadata": {},
   "outputs": [],
   "source": [
    "#exercicio 1060\n",
    "x = 0\n",
    "lista = list()\n",
    "while x < 6:\n",
    "    num = float(input())\n",
    "    lista.append(num)\n",
    "    x += 1\n",
    "\n",
    "countPosi = 0\n",
    "for i in lista:\n",
    "    if i > 0:\n",
    "        countPosi += 1\n",
    "print(\"{} valores positivos\".format(countPosi))"
   ]
  },
  {
   "cell_type": "code",
   "execution_count": 48,
   "metadata": {},
   "outputs": [
    {
     "name": "stdin",
     "output_type": "stream",
     "text": [
      " dia 5\n",
      " 06 : 06 : 2021\n",
      " 07 : 07 : 2021\n"
     ]
    },
    {
     "ename": "ValueError",
     "evalue": "invalid literal for int() with base 10: ':'",
     "output_type": "error",
     "traceback": [
      "\u001b[1;31m---------------------------------------------------------------------------\u001b[0m",
      "\u001b[1;31mValueError\u001b[0m                                Traceback (most recent call last)",
      "\u001b[1;32m<ipython-input-48-0e82ad798bd7>\u001b[0m in \u001b[0;36m<module>\u001b[1;34m\u001b[0m\n\u001b[0;32m      8\u001b[0m \u001b[1;33m\u001b[0m\u001b[0m\n\u001b[0;32m      9\u001b[0m \u001b[0mdia2\u001b[0m \u001b[1;33m=\u001b[0m \u001b[0minput\u001b[0m\u001b[1;33m(\u001b[0m\u001b[1;33m)\u001b[0m\u001b[1;33m.\u001b[0m\u001b[0msplit\u001b[0m\u001b[1;33m(\u001b[0m\u001b[1;33m)\u001b[0m\u001b[1;33m\u001b[0m\u001b[1;33m\u001b[0m\u001b[0m\n\u001b[1;32m---> 10\u001b[1;33m \u001b[0md2\u001b[0m \u001b[1;33m=\u001b[0m \u001b[0mint\u001b[0m\u001b[1;33m(\u001b[0m\u001b[0mdia2\u001b[0m\u001b[1;33m[\u001b[0m\u001b[1;36m1\u001b[0m\u001b[1;33m]\u001b[0m\u001b[1;33m)\u001b[0m\u001b[1;33m\u001b[0m\u001b[1;33m\u001b[0m\u001b[0m\n\u001b[0m\u001b[0;32m     11\u001b[0m \u001b[0mhora2\u001b[0m \u001b[1;33m=\u001b[0m \u001b[0minput\u001b[0m\u001b[1;33m(\u001b[0m\u001b[1;33m)\u001b[0m\u001b[1;33m.\u001b[0m\u001b[0msplit\u001b[0m\u001b[1;33m(\u001b[0m\u001b[1;34m\" : \"\u001b[0m\u001b[1;33m)\u001b[0m\u001b[1;33m\u001b[0m\u001b[1;33m\u001b[0m\u001b[0m\n\u001b[0;32m     12\u001b[0m \u001b[0mh2\u001b[0m \u001b[1;33m=\u001b[0m \u001b[0mint\u001b[0m\u001b[1;33m(\u001b[0m\u001b[0mhora2\u001b[0m\u001b[1;33m[\u001b[0m\u001b[1;36m0\u001b[0m\u001b[1;33m]\u001b[0m\u001b[1;33m)\u001b[0m\u001b[1;33m\u001b[0m\u001b[1;33m\u001b[0m\u001b[0m\n",
      "\u001b[1;31mValueError\u001b[0m: invalid literal for int() with base 10: ':'"
     ]
    }
   ],
   "source": [
    "# exercicio 1061\n",
    "dia1 = input().split()\n",
    "d1 = int(dia1[1])\n",
    "hora1 = input().split(\" : \")\n",
    "h1 = int(hora1[0])\n",
    "m1 = int(hora1[1])\n",
    "s1 = int(hora1[2])\n",
    "\n",
    "dia2 = input().split()\n",
    "d2 = int(dia2[1])\n",
    "hora2 = input().split(\" : \")\n",
    "h2 = int(hora2[0])\n",
    "m2 = int(hora2[1])\n",
    "s2 = int(hora2[2])\n",
    "\n",
    "dias = d2 - d1\n",
    "if h2 > h1:\n",
    "    horas = h2 - h1\n",
    "    if m1 > m2:\n",
    "        minutos = (60-m1) + m2\n",
    "    elif m2 > m1:\n",
    "        minutos = m2 - m1\n",
    "    elif m1 == m2:\n",
    "        minutos = 0\n",
    "elif h1 > h2:\n",
    "    dias -= 1\n",
    "    horas = (24-h1) + h2\n",
    "    if m1 > m2:\n",
    "        minutos = (60-m1) + m2\n",
    "    elif m2 > m1:\n",
    "        minutos = m2 - m1\n",
    "    elif m1 == m2:\n",
    "        minutos = 0\n",
    "elif h1 == h2:\n",
    "    horas = 0\n",
    "    if m1 > m2:\n",
    "        minutos = (60-m1) + m2\n",
    "    elif m2 > m1:\n",
    "        minutos = m2 - m1\n",
    "    elif m1 == m2:\n",
    "        minutos = 0\n",
    "    \n",
    "if s1 > s2:\n",
    "    segundos = (60-s1) + s2\n",
    "elif s2 > s1:\n",
    "    segundos = s2 - s1\n",
    "elif s2 == s1:\n",
    "    segundos = 0\n",
    "\n",
    "print(\"{} dia(s)\".format(dias))\n",
    "print(\"{} hora(s)\".format(horas))\n",
    "print(\"{} minuto(s)\".format(minutos))\n",
    "print(\"{} segundo(s)\".format(segundos))"
   ]
  },
  {
   "cell_type": "code",
   "execution_count": null,
   "metadata": {},
   "outputs": [],
   "source": [
    "#exercicio 1064\n",
    "\n",
    "x = 0\n",
    "lista = list()\n",
    "while x < 6:\n",
    "    num = float(input())\n",
    "    lista.append(num)\n",
    "    x += 1\n",
    "\n",
    "count = 0\n",
    "countPosi = 0\n",
    "quantas = 0\n",
    "for i in lista:\n",
    "    if i > 0:\n",
    "        countPosi += 1\n",
    "        count += i\n",
    "        quantas += 1\n",
    "media = round(count / quantas,1)\n",
    "print(\"{} valores positivos\".format(countPosi))\n",
    "print(media)"
   ]
  },
  {
   "cell_type": "code",
   "execution_count": null,
   "metadata": {},
   "outputs": [],
   "source": [
    "# exercicio 1065\n",
    "x = 0\n",
    "lista = list()\n",
    "pares = 0\n",
    "while x < 5:\n",
    "    num = float(input())\n",
    "    lista.append(num)\n",
    "    x += 1\n",
    "\n",
    "for numeros in lista:\n",
    "    if numeros % 2 ==0:\n",
    "        pares += 1\n",
    "print(\"{} valores pares\".format(pares))"
   ]
  },
  {
   "cell_type": "code",
   "execution_count": null,
   "metadata": {},
   "outputs": [],
   "source": [
    "# exercicio 1066\n",
    "x = 0\n",
    "lista = list()\n",
    "pares = 0\n",
    "impares = 0\n",
    "posi = 0\n",
    "nega = 0\n",
    "while x < 5:\n",
    "    num = float(input())\n",
    "    lista.append(num)\n",
    "    x += 1\n",
    "\n",
    "for numeros in lista:\n",
    "    if numeros>0:\n",
    "        posi += 1\n",
    "        if numeros % 2 == 0:\n",
    "            pares += 1\n",
    "        elif numeros % 2 != 0:\n",
    "            impares += 1\n",
    "    elif numeros<0:\n",
    "        nega += 1\n",
    "        if numeros % 2 == 0:\n",
    "            pares += 1\n",
    "        elif numeros % 2 != 0:\n",
    "            impares += 1\n",
    "    elif numeros == 0:\n",
    "        if numeros % 2 == 0:\n",
    "            pares += 1\n",
    "        elif numeros % 2 != 0:\n",
    "            impares += 1\n",
    "            \n",
    "print(\"{} valor(es) par(es)\".format(pares))\n",
    "print(\"{} valor(es) impar(es)\".format(impares))\n",
    "print(\"{} valor(es) positivo(s)\".format(posi))\n",
    "print(\"{} valor(es) negativo(s)\".format(nega))"
   ]
  },
  {
   "cell_type": "code",
   "execution_count": null,
   "metadata": {},
   "outputs": [],
   "source": [
    "#exercicio 1067\n",
    "num = int(input())\n",
    "contagemFim = 0\n",
    "\n",
    "while contagemFim < 6:\n",
    "    if num % 2 != 0:\n",
    "        print(num)\n",
    "        contagemFim += 1\n",
    "    num += 1"
   ]
  },
  {
   "cell_type": "code",
   "execution_count": null,
   "metadata": {},
   "outputs": [],
   "source": [
    "#exercicio 1070\n",
    "num = int(input())\n",
    "\n",
    "for i in range(0,num+1):\n",
    "    if i % 2 != 0:\n",
    "        print(i)"
   ]
  },
  {
   "cell_type": "code",
   "execution_count": null,
   "metadata": {},
   "outputs": [],
   "source": [
    "# exercicio 1071\n",
    "x = int(input())\n",
    "y = int(input())\n",
    "somaImp = 0\n",
    "if x < y:\n",
    "    for i in range(x+1,y):\n",
    "        if i %2 != 0:\n",
    "            somaImp += i \n",
    "    print(somaImp)\n",
    "elif x > y:\n",
    "    for i in range(y+1,x):\n",
    "        if i % 2 != 0:\n",
    "            somaImp += i\n",
    "    print(somaImp)\n",
    "elif x==y:\n",
    "    print(0)"
   ]
  },
  {
   "cell_type": "code",
   "execution_count": null,
   "metadata": {},
   "outputs": [],
   "source": [
    "# exercicio 1072\n",
    "\n",
    "qtde = int(input())\n",
    "pular = 0\n",
    "intervalo = [i for i in range(10,21)]\n",
    "\n",
    "lista = list()\n",
    "while pular<qtde:\n",
    "    numero = int(input())\n",
    "    lista.append(numero)\n",
    "    pular += 1\n",
    "\n",
    "nIn = 0\n",
    "nOut = 0\n",
    "\n",
    "for i in lista:\n",
    "    if i in intervalo:\n",
    "        nIn += 1\n",
    "    else:\n",
    "        nOut += 1\n",
    "        \n",
    "print(\"{} in\".format(nIn))\n",
    "print(\"{} out\".format(nOut))"
   ]
  },
  {
   "cell_type": "code",
   "execution_count": null,
   "metadata": {},
   "outputs": [],
   "source": [
    "# exercicio 1073\n",
    "numero = int(input())\n",
    "\n",
    "for i in range(1,numero+1):\n",
    "    if i % 2 == 0:\n",
    "        res = i ** 2\n",
    "        print(\"{}^2 = {}\".format(i,res))"
   ]
  },
  {
   "cell_type": "code",
   "execution_count": null,
   "metadata": {},
   "outputs": [],
   "source": [
    "# exercicio 1074\n",
    "qtde = int(input())\n",
    "pular = 0\n",
    "\n",
    "lista = list()\n",
    "while pular<qtde:\n",
    "    numero = int(input())\n",
    "    if numero>0:\n",
    "        if numero % 2 == 0:\n",
    "            print(\"EVEN POSITIVE\")\n",
    "        elif numero % 2 != 0:\n",
    "            print(\"ODD POSITIVE\")\n",
    "    elif numero < 0:\n",
    "        if numero % 2 == 0:\n",
    "            print(\"EVEN NEGATIVE\")\n",
    "        elif numero % 2 != 0:\n",
    "            print(\"ODD NEGATIVE\")\n",
    "    elif numero == 0:\n",
    "        print(\"NULL\")\n",
    "    pular += 1"
   ]
  },
  {
   "cell_type": "code",
   "execution_count": null,
   "metadata": {},
   "outputs": [],
   "source": [
    "# exercicio 1075\n",
    "\n",
    "numero = int(input())\n",
    "n = 0\n",
    "while n < 10000:\n",
    "    if n % numero == 2:\n",
    "        print(n)\n",
    "    n += 1"
   ]
  },
  {
   "cell_type": "code",
   "execution_count": null,
   "metadata": {},
   "outputs": [],
   "source": [
    "# exercicio 1078\n",
    "\n",
    "num = int(input())\n",
    "\n",
    "for base in range(1,11):\n",
    "    print(\"{} x {} = {}\".format(base,num,(base*num)))"
   ]
  },
  {
   "cell_type": "code",
   "execution_count": null,
   "metadata": {},
   "outputs": [],
   "source": [
    "# exercicio 1079\n",
    "\n",
    "n = int(input())\n",
    "rep = 0\n",
    "\n",
    "while n>rep:\n",
    "    notas = input().split()\n",
    "    n1 = float(notas[0]) * 2\n",
    "    n2 = float(notas[1]) * 3\n",
    "    n3 = float(notas[2]) * 5\n",
    "    media = round((n1 + n2 + n3) / 10,1)\n",
    "    print(media)\n",
    "    rep += 1"
   ]
  },
  {
   "cell_type": "code",
   "execution_count": null,
   "metadata": {},
   "outputs": [],
   "source": [
    "#### exercicio 1080\n",
    "lista = list()\n",
    "num = 0\n",
    "listaPos = list()\n",
    "while num < 100:\n",
    "    numero = int(input())\n",
    "    lista.append(numero)\n",
    "    num += 1\n",
    "    \n",
    "listaPos = lista[:]\n",
    "\n",
    "n = len(lista)\n",
    "for j in range(1,n):\n",
    "    chave = lista[j]\n",
    "    i = j - 1\n",
    "    while i >= 0 and lista[i]>chave:\n",
    "        lista[i+1] = lista[i]\n",
    "        i = i - 1\n",
    "    lista[i+1] = chave\n",
    "    \n",
    "print(lista[-1])\n",
    "print((listaPos.index(lista[-1]))+1)"
   ]
  },
  {
   "cell_type": "code",
   "execution_count": null,
   "metadata": {},
   "outputs": [],
   "source": [
    "# exercicio 1094\n",
    "num = int(input())\n",
    "rep = 0 \n",
    "total = 0\n",
    "totalC = 0\n",
    "totalR = 0\n",
    "totalS = 0\n",
    "while num > rep:\n",
    "    cobaia = input().split()\n",
    "    numCobaia = int(cobaia[0])\n",
    "    tipoCobaia = cobaia[1].upper()\n",
    "    total +=numCobaia\n",
    "    if tipoCobaia == \"C\":\n",
    "        totalC += numCobaia\n",
    "    elif tipoCobaia == \"R\":\n",
    "        totalR += numCobaia\n",
    "    elif tipoCobaia == \"S\":\n",
    "        totalS += numCobaia\n",
    "    rep += 1\n",
    "\n",
    "print(\"Total: {} cobaias\".format(total))\n",
    "print(\"Total de coelhos: {}\".format(totalC))\n",
    "print(\"Total de ratos: {}\".format(totalR))\n",
    "print(\"Total de sapos: {}\".format(totalS))\n",
    "\n",
    "\n",
    "print(\"Percentual de coelhos: {:.2f} %\".format(round((totalC / total)*100,2)))\n",
    "print(\"Percentual de ratos: {:.2f} %\".format(round((totalR / total*100),2)))\n",
    "print(\"Percentual de sapos: {:.2f} %\".format(round((totalS / total*100),2)))"
   ]
  },
  {
   "cell_type": "code",
   "execution_count": null,
   "metadata": {},
   "outputs": [],
   "source": [
    "# exercicio 1095\n",
    "x = 60 // 5\n",
    "j = 60\n",
    "i = 1\n",
    "for x in range(0,x+1):\n",
    "    print(\"I={} J={}\".format(i,j))\n",
    "    i += 3\n",
    "    j -= 5"
   ]
  },
  {
   "cell_type": "code",
   "execution_count": null,
   "metadata": {},
   "outputs": [],
   "source": [
    "# exercicio 1096\n",
    "\n",
    "for i in range(1,10,2):\n",
    "    for j in range(7,4,-1):\n",
    "        print(\"I={} J={}\".format(i,j))"
   ]
  },
  {
   "cell_type": "code",
   "execution_count": null,
   "metadata": {},
   "outputs": [],
   "source": [
    "# exercicio 1097\n",
    "j = 7\n",
    "\n",
    "for i in range(1,10,2):\n",
    "    x = j\n",
    "    for ii in range(0,3):\n",
    "        print(\"I={} J={}\".format(i,x))\n",
    "        x -= 1\n",
    "    j += 2"
   ]
  },
  {
   "cell_type": "code",
   "execution_count": null,
   "metadata": {},
   "outputs": [],
   "source": [
    "# exercicio 1098\n",
    "k = 0\n",
    "j = [1,2,3]\n",
    "count_i = 0\n",
    "count_ii = 0\n",
    "\n",
    "for i in range(0,11):\n",
    "    for ii in j:\n",
    "        k = round(k,1)\n",
    "        ii = round(ii,1) + k\n",
    "        if k == int(k):\n",
    "            print(\"I={:.0f} J={:.0f}\".format(k,ii))\n",
    "        else:\n",
    "            print(\"I={} J={}\".format(k,ii))\n",
    "        count_i += 1\n",
    "        if count_i == 3:\n",
    "            k += 0.20\n",
    "            count_i = 0"
   ]
  },
  {
   "cell_type": "code",
   "execution_count": 1,
   "metadata": {},
   "outputs": [
    {
     "name": "stdin",
     "output_type": "stream",
     "text": [
      " 5\n",
      " 5\n"
     ]
    },
    {
     "ename": "IndexError",
     "evalue": "list index out of range",
     "output_type": "error",
     "traceback": [
      "\u001b[1;31m---------------------------------------------------------------------------\u001b[0m",
      "\u001b[1;31mIndexError\u001b[0m                                Traceback (most recent call last)",
      "\u001b[1;32m<ipython-input-1-b7c28eed58c8>\u001b[0m in \u001b[0;36m<module>\u001b[1;34m\u001b[0m\n\u001b[0;32m      6\u001b[0m     \u001b[0ma\u001b[0m \u001b[1;33m=\u001b[0m \u001b[0minput\u001b[0m\u001b[1;33m(\u001b[0m\u001b[1;33m)\u001b[0m\u001b[1;33m.\u001b[0m\u001b[0msplit\u001b[0m\u001b[1;33m(\u001b[0m\u001b[1;33m)\u001b[0m\u001b[1;33m\u001b[0m\u001b[1;33m\u001b[0m\u001b[0m\n\u001b[0;32m      7\u001b[0m     \u001b[0mx\u001b[0m \u001b[1;33m=\u001b[0m \u001b[0mint\u001b[0m\u001b[1;33m(\u001b[0m\u001b[0ma\u001b[0m\u001b[1;33m[\u001b[0m\u001b[1;36m0\u001b[0m\u001b[1;33m]\u001b[0m\u001b[1;33m)\u001b[0m\u001b[1;33m\u001b[0m\u001b[1;33m\u001b[0m\u001b[0m\n\u001b[1;32m----> 8\u001b[1;33m     \u001b[0my\u001b[0m \u001b[1;33m=\u001b[0m \u001b[0mint\u001b[0m\u001b[1;33m(\u001b[0m\u001b[0ma\u001b[0m\u001b[1;33m[\u001b[0m\u001b[1;36m1\u001b[0m\u001b[1;33m]\u001b[0m\u001b[1;33m)\u001b[0m\u001b[1;33m\u001b[0m\u001b[1;33m\u001b[0m\u001b[0m\n\u001b[0m\u001b[0;32m      9\u001b[0m     \u001b[1;32mif\u001b[0m \u001b[0mx\u001b[0m\u001b[1;33m>\u001b[0m\u001b[0my\u001b[0m\u001b[1;33m:\u001b[0m\u001b[1;33m\u001b[0m\u001b[1;33m\u001b[0m\u001b[0m\n\u001b[0;32m     10\u001b[0m         \u001b[1;32mfor\u001b[0m \u001b[0mi\u001b[0m \u001b[1;32min\u001b[0m \u001b[0mrange\u001b[0m\u001b[1;33m(\u001b[0m\u001b[0my\u001b[0m\u001b[1;33m+\u001b[0m\u001b[1;36m1\u001b[0m\u001b[1;33m,\u001b[0m\u001b[0mx\u001b[0m\u001b[1;33m)\u001b[0m\u001b[1;33m:\u001b[0m\u001b[1;33m\u001b[0m\u001b[1;33m\u001b[0m\u001b[0m\n",
      "\u001b[1;31mIndexError\u001b[0m: list index out of range"
     ]
    }
   ],
   "source": [
    "# exercicio 1099\n",
    "n = int(input())\n",
    "reset = 0\n",
    "soma = 0\n",
    "while n>reset:\n",
    "    a = input().split()\n",
    "    x = int(a[0])\n",
    "    y = int(a[1])\n",
    "    if x>y:\n",
    "        for i in range(y+1,x):\n",
    "            if i % 2 != 0:\n",
    "                soma += i\n",
    "        print(soma)\n",
    "        soma = 0\n",
    "    elif y>x:\n",
    "        for i in range(x+1,y):\n",
    "            if i % 2 != 0:\n",
    "                soma += i\n",
    "        print(soma)\n",
    "        soma = 0\n",
    "    elif y==x:\n",
    "        print(0)\n",
    "    reset += 1"
   ]
  },
  {
   "cell_type": "code",
   "execution_count": 14,
   "metadata": {},
   "outputs": [
    {
     "name": "stdin",
     "output_type": "stream",
     "text": [
      " 5 9\n"
     ]
    },
    {
     "name": "stdout",
     "output_type": "stream",
     "text": [
      "5 6 7 8 9 Sum=35\n"
     ]
    },
    {
     "name": "stdin",
     "output_type": "stream",
     "text": [
      " 6 3\n"
     ]
    },
    {
     "name": "stdout",
     "output_type": "stream",
     "text": [
      "3 4 5 6 Sum=18\n"
     ]
    },
    {
     "name": "stdin",
     "output_type": "stream",
     "text": [
      " 5 2\n"
     ]
    },
    {
     "name": "stdout",
     "output_type": "stream",
     "text": [
      "2 3 4 5 Sum=14\n"
     ]
    },
    {
     "name": "stdin",
     "output_type": "stream",
     "text": [
      " 5 0\n"
     ]
    }
   ],
   "source": [
    "#exercicio 1101\n",
    "soma = 0\n",
    "\n",
    "while True:\n",
    "    a = input().split()\n",
    "    m = int(a[0])\n",
    "    n = int(a[1])\n",
    "\n",
    "    if m <= 0 or n <= 0:\n",
    "        break\n",
    "    if m>n:\n",
    "        for i in range(n,m+1):\n",
    "            soma += i\n",
    "            print(i,end=' ')\n",
    "        print(\"Sum={}\".format(soma))\n",
    "        soma = 0\n",
    "    elif m<n:\n",
    "        for i in range(m,n+1):\n",
    "            soma += i\n",
    "            print(i,end=\" \")\n",
    "        print(\"Sum={}\".format(soma))\n",
    "        soma = 0"
   ]
  },
  {
   "cell_type": "code",
   "execution_count": 2,
   "metadata": {},
   "outputs": [
    {
     "name": "stdin",
     "output_type": "stream",
     "text": [
      " 5 4\n"
     ]
    },
    {
     "name": "stdout",
     "output_type": "stream",
     "text": [
      "Decrescente\n"
     ]
    },
    {
     "name": "stdin",
     "output_type": "stream",
     "text": [
      " 7 2\n"
     ]
    },
    {
     "name": "stdout",
     "output_type": "stream",
     "text": [
      "Decrescente\n"
     ]
    },
    {
     "name": "stdin",
     "output_type": "stream",
     "text": [
      " 3 8\n"
     ]
    },
    {
     "name": "stdout",
     "output_type": "stream",
     "text": [
      "Crescente\n"
     ]
    },
    {
     "name": "stdin",
     "output_type": "stream",
     "text": [
      " 2 2\n"
     ]
    }
   ],
   "source": [
    "# exercicio 1113\n",
    "x = 1\n",
    "y = 2\n",
    "while x != y:\n",
    "    A = input().split()\n",
    "    x = int(A[0])\n",
    "    y = int(A[1])\n",
    "    if x>y:\n",
    "        print(\"Decrescente\")\n",
    "    elif y>x:\n",
    "        print(\"Crescente\")\n",
    "    elif x==y:\n",
    "        break"
   ]
  },
  {
   "cell_type": "code",
   "execution_count": 3,
   "metadata": {},
   "outputs": [
    {
     "name": "stdin",
     "output_type": "stream",
     "text": [
      " 2005\n"
     ]
    },
    {
     "name": "stdout",
     "output_type": "stream",
     "text": [
      "Senha Invalida\n"
     ]
    },
    {
     "name": "stdin",
     "output_type": "stream",
     "text": [
      " 2004\n"
     ]
    },
    {
     "name": "stdout",
     "output_type": "stream",
     "text": [
      "Senha Invalida\n"
     ]
    },
    {
     "name": "stdin",
     "output_type": "stream",
     "text": [
      " 2001\n"
     ]
    },
    {
     "name": "stdout",
     "output_type": "stream",
     "text": [
      "Senha Invalida\n"
     ]
    },
    {
     "name": "stdin",
     "output_type": "stream",
     "text": [
      " 2002\n"
     ]
    },
    {
     "name": "stdout",
     "output_type": "stream",
     "text": [
      "Acesso Permitido\n"
     ]
    }
   ],
   "source": [
    "# exercicio 1114\n",
    "\n",
    "senha = 0\n",
    "while senha != 2002:\n",
    "    senha = int(input())\n",
    "    if senha != 2002:\n",
    "        print(\"Senha Invalida\")\n",
    "    elif senha == 2002:\n",
    "        print(\"Acesso Permitido\")\n",
    "        break"
   ]
  },
  {
   "cell_type": "code",
   "execution_count": 5,
   "metadata": {},
   "outputs": [
    {
     "name": "stdin",
     "output_type": "stream",
     "text": [
      " 3 2\n"
     ]
    },
    {
     "name": "stdout",
     "output_type": "stream",
     "text": [
      "primeiro\n"
     ]
    },
    {
     "name": "stdin",
     "output_type": "stream",
     "text": [
      " 3 -2\n"
     ]
    },
    {
     "name": "stdout",
     "output_type": "stream",
     "text": [
      "quarto\n"
     ]
    },
    {
     "name": "stdin",
     "output_type": "stream",
     "text": [
      " -8 -1\n"
     ]
    },
    {
     "name": "stdout",
     "output_type": "stream",
     "text": [
      "terceiro\n"
     ]
    },
    {
     "name": "stdin",
     "output_type": "stream",
     "text": [
      " -7 1\n"
     ]
    },
    {
     "name": "stdout",
     "output_type": "stream",
     "text": [
      "segundo\n"
     ]
    },
    {
     "name": "stdin",
     "output_type": "stream",
     "text": [
      " 0 2\n"
     ]
    }
   ],
   "source": [
    "#exercicio 1115\n",
    "x = 1\n",
    "y = 1\n",
    "while x != 0 or y != 0:\n",
    "    a = input().split()\n",
    "    x = int(a[0])\n",
    "    y = int(a[1])\n",
    "\n",
    "    if x > 0:\n",
    "        if y > 0:\n",
    "            print(\"primeiro\")\n",
    "        elif y < 0:\n",
    "            print(\"quarto\")\n",
    "    elif 0 > x:\n",
    "        if y > 0:\n",
    "            print('segundo')\n",
    "        elif y < 0:\n",
    "            print(\"terceiro\")\n",
    "    elif x == 0 or y == 0:\n",
    "        break"
   ]
  },
  {
   "cell_type": "code",
   "execution_count": 8,
   "metadata": {},
   "outputs": [
    {
     "name": "stdin",
     "output_type": "stream",
     "text": [
      " 3\n",
      " 3 -2\n"
     ]
    },
    {
     "name": "stdout",
     "output_type": "stream",
     "text": [
      "-1.5\n"
     ]
    },
    {
     "name": "stdin",
     "output_type": "stream",
     "text": [
      " 8 0\n"
     ]
    },
    {
     "name": "stdout",
     "output_type": "stream",
     "text": [
      "divisao impossivel\n"
     ]
    },
    {
     "name": "stdin",
     "output_type": "stream",
     "text": [
      " 0 8\n"
     ]
    },
    {
     "name": "stdout",
     "output_type": "stream",
     "text": [
      "0.0\n"
     ]
    }
   ],
   "source": [
    "# exercicio 1116\n",
    "rep = 0\n",
    "entrada = int(input())\n",
    "while entrada>rep:\n",
    "    a = input().split()\n",
    "    x = int(a[0])\n",
    "    y = int(a[1])\n",
    "    \n",
    "    if y == 0:\n",
    "        print(\"divisao impossivel\")\n",
    "    elif x == 0:\n",
    "        print(0.0)\n",
    "    else:\n",
    "        res = round(x / y,1)\n",
    "        print(res)\n",
    "    rep += 1"
   ]
  },
  {
   "cell_type": "code",
   "execution_count": 47,
   "metadata": {},
   "outputs": [
    {
     "name": "stdin",
     "output_type": "stream",
     "text": [
      " 3.5\n",
      " 10\n"
     ]
    },
    {
     "name": "stdout",
     "output_type": "stream",
     "text": [
      "media = 6.75\n"
     ]
    }
   ],
   "source": [
    "## exercicio 1117\n",
    "total = 0\n",
    "nota = -5\n",
    "count = 0\n",
    "lista_notas = list()\n",
    "while nota >= 0 or nota <= 10:\n",
    "    nota = float(input())\n",
    "    if nota < 0 or nota > 10:\n",
    "        print(\"nota invalida\")\n",
    "    elif nota >= 0 and nota <= 10:\n",
    "        total += nota\n",
    "        count += 1\n",
    "        if count == 2:\n",
    "            media = round(total/2,2)\n",
    "            print(\"media = {:.2f}\".format(media))\n",
    "            break"
   ]
  },
  {
   "cell_type": "code",
   "execution_count": null,
   "metadata": {},
   "outputs": [],
   "source": [
    "## exercicio 1118\n",
    "\n",
    "total = 0\n",
    "nota = -5\n",
    "lista_notas = list()\n",
    "count = 0\n",
    "\n",
    "while nota >= 0 or nota <= 10:\n",
    "    nota = float(input())\n",
    "    if nota < 0 or nota > 10:\n",
    "        print(\"nota invalida\")\n",
    "    elif nota >= 0 and nota <= 10:\n",
    "        total += nota\n",
    "        count += 1\n",
    "        if count == 2:\n",
    "            media = round(total/2,2)\n",
    "            print(\"media = {:.2f}\".format(media))\n",
    "            count = 0\n",
    "            total = 0\n",
    "            print(\"novo calculo (1-sim 2-nao)\")\n",
    "            voltar = int(input())\n",
    "            if voltar == 2:\n",
    "                break\n",
    "            while voltar > 2 or voltar < 1:\n",
    "                print(\"novo calculo (1-sim 2-nao)\")\n",
    "                voltar = int(input())"
   ]
  },
  {
   "cell_type": "code",
   "execution_count": 86,
   "metadata": {},
   "outputs": [
    {
     "name": "stdin",
     "output_type": "stream",
     "text": [
      " 5 9\n"
     ]
    },
    {
     "name": "stdout",
     "output_type": "stream",
     "text": [
      "Novo grenal (1-sim 2-nao)\n"
     ]
    },
    {
     "name": "stdin",
     "output_type": "stream",
     "text": [
      " 1\n",
      " 5 8\n"
     ]
    },
    {
     "name": "stdout",
     "output_type": "stream",
     "text": [
      "Novo grenal (1-sim 2-nao)\n"
     ]
    },
    {
     "name": "stdin",
     "output_type": "stream",
     "text": [
      " 2\n"
     ]
    },
    {
     "name": "stdout",
     "output_type": "stream",
     "text": [
      "2 grenais\n",
      "Inter:0\n",
      "Gremio:2\n",
      "Empate:0\n",
      "Gremio venceu mais\n"
     ]
    }
   ],
   "source": [
    "# exercicio 1131\n",
    "\n",
    "grenal = -1\n",
    "vit_inter = 0\n",
    "vit_gremio = 0\n",
    "empate = 0\n",
    "count = 0\n",
    "\n",
    "while grenal > 0 or grenal < 2:\n",
    "    gols = input().split()\n",
    "    inter = int(gols[0])\n",
    "    gremio = int(gols[1])\n",
    "    if inter > gremio:\n",
    "        vit_inter += 1\n",
    "        count += 1\n",
    "    elif gremio > inter:\n",
    "        vit_gremio += 1\n",
    "        count += 1\n",
    "    elif gremio == inter:\n",
    "        empate += 1\n",
    "        count += 1\n",
    "    print(\"Novo grenal (1-sim 2-nao)\")\n",
    "    grenal = int(input())\n",
    "    if grenal == 2:\n",
    "        print(\"{} grenais\".format(count))\n",
    "        print(\"Inter:{}\".format(vit_inter))\n",
    "        print(\"Gremio:{}\".format(vit_gremio))\n",
    "        print(\"Empates:{}\".format(empate))\n",
    "        if vit_gremio>vit_inter:\n",
    "            print(\"Gremio venceu mais\")\n",
    "        elif vit_inter>vit_gremio:\n",
    "            print(\"Inter venceu mais\")\n",
    "        elif vit_inter == vit_gremio:\n",
    "            print(\"Nao houve vencedor\")\n",
    "        break"
   ]
  },
  {
   "cell_type": "code",
   "execution_count": 94,
   "metadata": {},
   "outputs": [
    {
     "name": "stdin",
     "output_type": "stream",
     "text": [
      " 100\n",
      " 200\n"
     ]
    },
    {
     "name": "stdout",
     "output_type": "stream",
     "text": [
      "13954\n"
     ]
    }
   ],
   "source": [
    "# exercicio 1132\n",
    "\n",
    "x = int(input())\n",
    "y = int(input())\n",
    "soma = 0\n",
    "\n",
    "if x > y:\n",
    "    for n in range(y,x+1):\n",
    "        if n % 13 != 0:\n",
    "            soma += n\n",
    "    print(soma)\n",
    "elif y > x:\n",
    "    for n in range(x,y+1):\n",
    "        if n % 13 != 0:\n",
    "            soma += n\n",
    "    print(soma)\n",
    "elif x == y:\n",
    "    lista = [x,y]\n",
    "    for i in lista:\n",
    "        if i % 13 != 0:\n",
    "            soma += i\n",
    "    print(soma)"
   ]
  },
  {
   "cell_type": "code",
   "execution_count": 1,
   "metadata": {},
   "outputs": [
    {
     "name": "stdin",
     "output_type": "stream",
     "text": [
      " 10\n",
      " 18\n"
     ]
    },
    {
     "name": "stdout",
     "output_type": "stream",
     "text": [
      "12\n",
      "13\n",
      "17\n"
     ]
    }
   ],
   "source": [
    "# exercicio 1133\n",
    "\n",
    "x = int(input())\n",
    "y = int(input())\n",
    "\n",
    "if x>y:\n",
    "    for i in range(y+1,x):\n",
    "        if i % 5 == 2 or i % 5 == 3:\n",
    "            print(i)\n",
    "elif y>x:\n",
    "    for i in range(x+1,y):\n",
    "        if i % 5 == 2 or i % 5 == 3:\n",
    "            print(i)"
   ]
  },
  {
   "cell_type": "code",
   "execution_count": 5,
   "metadata": {},
   "outputs": [
    {
     "name": "stdin",
     "output_type": "stream",
     "text": [
      "escolha:  8\n",
      "escolha:  1\n",
      "escolha:  7\n",
      "escolha:  2\n",
      "escolha:  2\n",
      "escolha:  4\n"
     ]
    },
    {
     "name": "stdout",
     "output_type": "stream",
     "text": [
      "MUITO OBRIGADO\n",
      "Alcool: 1\n",
      "Gasolina: 2\n",
      "Diesel: 0\n"
     ]
    }
   ],
   "source": [
    "# exercicio 1134\n",
    "\n",
    "escolha = 5\n",
    "al = 0 # 1\n",
    "gas = 0 # 2\n",
    "die = 0 # 3\n",
    "while escolha != 4:\n",
    "    escolha = int(input())\n",
    "    if escolha == 1:\n",
    "        al += 1\n",
    "    elif escolha == 2:\n",
    "        gas += 1\n",
    "    elif escolha == 3:\n",
    "        die += 1\n",
    "    \n",
    "print(\"MUITO OBRIGADO\")\n",
    "print(\"Alcool: {}\".format(al))\n",
    "print(\"Gasolina: {}\".format(gas))\n",
    "print(\"Diesel: {}\".format(die))\n",
    "        "
   ]
  },
  {
   "cell_type": "code",
   "execution_count": 14,
   "metadata": {},
   "outputs": [
    {
     "name": "stdin",
     "output_type": "stream",
     "text": [
      " 7\n"
     ]
    },
    {
     "name": "stdout",
     "output_type": "stream",
     "text": [
      "1 2 3 PUM\n",
      "5 6 7 PUM\n",
      "9 10 11 PUM\n",
      "13 14 15 PUM\n",
      "17 18 19 PUM\n",
      "21 22 23 PUM\n",
      "25 26 27 PUM\n"
     ]
    }
   ],
   "source": [
    "# exercicio 1142\n",
    "\n",
    "n = int(input()) * 4\n",
    "\n",
    "for i in range(1,n):\n",
    "    if i % 4 == 0:\n",
    "        print(\"PUM\",end=\"\\n\")\n",
    "        continue\n",
    "    print(i,end=' ')\n",
    "if n % 4 == 0:\n",
    "    print(\"PUM\")"
   ]
  },
  {
   "cell_type": "code",
   "execution_count": 20,
   "metadata": {},
   "outputs": [
    {
     "name": "stdin",
     "output_type": "stream",
     "text": [
      " 5\n"
     ]
    },
    {
     "name": "stdout",
     "output_type": "stream",
     "text": [
      "1 1 1\n",
      "2 4 8\n",
      "3 9 27\n",
      "4 16 64\n",
      "5 25 125\n"
     ]
    }
   ],
   "source": [
    "# exercicio 1143\n",
    "\n",
    "n = int(input())\n",
    "\n",
    "for i in range(1,n+1):\n",
    "    print(\"{} {} {}\".format(i,i**2,i**3))"
   ]
  },
  {
   "cell_type": "code",
   "execution_count": 21,
   "metadata": {},
   "outputs": [
    {
     "name": "stdin",
     "output_type": "stream",
     "text": [
      " 5\n"
     ]
    },
    {
     "name": "stdout",
     "output_type": "stream",
     "text": [
      "1 1 1\n",
      "1 2 2\n",
      "2 4 8\n",
      "2 5 9\n",
      "3 9 27\n",
      "3 10 28\n",
      "4 16 64\n",
      "4 17 65\n",
      "5 25 125\n",
      "5 26 126\n"
     ]
    }
   ],
   "source": [
    "# exercicio 1144\n",
    "\n",
    "n = int(input())\n",
    "\n",
    "for i in range(1,n+1):\n",
    "    x1 = i\n",
    "    x2 = i**2\n",
    "    x3 = i**3\n",
    "    print(\"{} {} {}\".format(x1,x2,x3))\n",
    "    print(\"{} {} {}\".format(x1,x2+1,x3+1))"
   ]
  },
  {
   "cell_type": "code",
   "execution_count": 39,
   "metadata": {},
   "outputs": [
    {
     "name": "stdin",
     "output_type": "stream",
     "text": [
      " 5 20\n"
     ]
    },
    {
     "name": "stdout",
     "output_type": "stream",
     "text": [
      "1 2 3 4 5\n",
      "6 7 8 9 10\n",
      "11 12 13 14 15\n",
      "16 17 18 19 20\n"
     ]
    }
   ],
   "source": [
    "# exercicio 1145\n",
    "\n",
    "a = input().split()\n",
    "\n",
    "x = int(a[0])\n",
    "y = int(a[1])\n",
    "\n",
    "for i in range(1,y+1):\n",
    "    if i % x == 0:\n",
    "        print(i)\n",
    "        continue\n",
    "    print(i, end=\" \")"
   ]
  },
  {
   "cell_type": "code",
   "execution_count": 9,
   "metadata": {},
   "outputs": [
    {
     "name": "stdin",
     "output_type": "stream",
     "text": [
      " 5\n"
     ]
    },
    {
     "name": "stdout",
     "output_type": "stream",
     "text": [
      "1 2 3 4 5 \n"
     ]
    },
    {
     "name": "stdin",
     "output_type": "stream",
     "text": [
      " 10\n"
     ]
    },
    {
     "name": "stdout",
     "output_type": "stream",
     "text": [
      "1 2 3 4 5 6 7 8 9 10 \n"
     ]
    },
    {
     "name": "stdin",
     "output_type": "stream",
     "text": [
      " 3\n"
     ]
    },
    {
     "name": "stdout",
     "output_type": "stream",
     "text": [
      "1 2 3 \n"
     ]
    },
    {
     "name": "stdin",
     "output_type": "stream",
     "text": [
      " 0\n"
     ]
    }
   ],
   "source": [
    "# exercucui 1146\n",
    "entrada = \"nba\"\n",
    "\n",
    "while entrada != 0:\n",
    "    entrada = int(input())\n",
    "    if entrada == 0:\n",
    "        break\n",
    "    for i in range(1,entrada+1):\n",
    "        if i == 1:\n",
    "            print(i,end='')\n",
    "            continue\n",
    "        print(\" {}\".format(i),end=\"\")\n",
    "    print()"
   ]
  },
  {
   "cell_type": "code",
   "execution_count": 20,
   "metadata": {},
   "outputs": [
    {
     "name": "stdout",
     "output_type": "stream",
     "text": [
      "3 -1 0 -2 2\n",
      "7\n"
     ]
    }
   ],
   "source": [
    "# beecrowd 1149\n",
    "\n",
    "entrada = input().split()\n",
    "a = int(entrada[0])\n",
    "n = int(entrada[1])\n",
    "\n",
    "count_e = 0\n",
    "if len(entrada) > 2:\n",
    "    for i_e in entrada:\n",
    "        count_e += 1\n",
    "        if int(i_e) > 0 and count_e >= 2:\n",
    "            n = int(i_e)\n",
    "            \n",
    "count = 0\n",
    "i = n-1\n",
    "\n",
    "for i in range(0,n):\n",
    "    count += (a+i)\n",
    "\n",
    "print(count)"
   ]
  },
  {
   "cell_type": "code",
   "execution_count": 41,
   "metadata": {},
   "outputs": [
    {
     "name": "stdout",
     "output_type": "stream",
     "text": [
      "3\n",
      "20\n",
      "5\n"
     ]
    }
   ],
   "source": [
    "# exercicio 1150\n",
    "\n",
    "x = int(input())\n",
    "z = int(input())\n",
    "if x >= z:\n",
    "    while x >= z:\n",
    "        z = int(input())\n",
    "        \n",
    "count = 0\n",
    "soma = 0\n",
    "\n",
    "for i in range(x,(x*z)):\n",
    "    soma += i\n",
    "    count += 1\n",
    "    if soma >= z:\n",
    "        print(count)\n",
    "        break"
   ]
  },
  {
   "cell_type": "code",
   "execution_count": null,
   "metadata": {},
   "outputs": [
    {
     "name": "stdin",
     "output_type": "stream",
     "text": [
      " 10\n"
     ]
    },
    {
     "name": "stdout",
     "output_type": "stream",
     "text": [
      "X[0] = 10\n"
     ]
    },
    {
     "name": "stdin",
     "output_type": "stream",
     "text": [
      " 12\n"
     ]
    },
    {
     "name": "stdout",
     "output_type": "stream",
     "text": [
      "X[1] = 12\n"
     ]
    },
    {
     "name": "stdin",
     "output_type": "stream",
     "text": [
      " 13\n"
     ]
    },
    {
     "name": "stdout",
     "output_type": "stream",
     "text": [
      "X[2] = 13\n"
     ]
    },
    {
     "name": "stdin",
     "output_type": "stream",
     "text": [
      " 15\n"
     ]
    },
    {
     "name": "stdout",
     "output_type": "stream",
     "text": [
      "X[3] = 15\n"
     ]
    },
    {
     "name": "stdin",
     "output_type": "stream",
     "text": [
      " 16\n"
     ]
    },
    {
     "name": "stdout",
     "output_type": "stream",
     "text": [
      "X[4] = 16\n"
     ]
    },
    {
     "name": "stdin",
     "output_type": "stream",
     "text": [
      " 14\n"
     ]
    },
    {
     "name": "stdout",
     "output_type": "stream",
     "text": [
      "X[5] = 14\n"
     ]
    },
    {
     "name": "stdin",
     "output_type": "stream",
     "text": [
      " 16\n"
     ]
    },
    {
     "name": "stdout",
     "output_type": "stream",
     "text": [
      "X[6] = 16\n"
     ]
    },
    {
     "name": "stdin",
     "output_type": "stream",
     "text": [
      " 12\n"
     ]
    },
    {
     "name": "stdout",
     "output_type": "stream",
     "text": [
      "X[7] = 12\n"
     ]
    },
    {
     "name": "stdin",
     "output_type": "stream",
     "text": [
      " 10\n"
     ]
    },
    {
     "name": "stdout",
     "output_type": "stream",
     "text": [
      "X[8] = 10\n"
     ]
    },
    {
     "name": "stdin",
     "output_type": "stream",
     "text": [
      " 13\n"
     ]
    },
    {
     "name": "stdout",
     "output_type": "stream",
     "text": [
      "X[9] = 13\n"
     ]
    }
   ],
   "source": [
    "# exercicio 1172\n",
    "\n",
    "lista = list()\n",
    "for i in range(0,10):\n",
    "    x = int(input())\n",
    "    if x <= 0:\n",
    "        x = 1\n",
    "    lista.append(x)\n",
    "    print(\"X[{}] = {}\".format(i,x))"
   ]
  },
  {
   "cell_type": "code",
   "execution_count": 8,
   "metadata": {},
   "outputs": [
    {
     "name": "stdin",
     "output_type": "stream",
     "text": [
      " 5\n"
     ]
    },
    {
     "name": "stdout",
     "output_type": "stream",
     "text": [
      "0 1 1 2 3"
     ]
    }
   ],
   "source": [
    "# exercicio 1151\n",
    "\n",
    "def fib(n):\n",
    "    j = 1\n",
    "    i = 0\n",
    "    for k in range(1,n):\n",
    "        t = i+j\n",
    "        i = j\n",
    "        j = t\n",
    "        if k == (n-1):\n",
    "            print(i,end='')\n",
    "            break\n",
    "        print(i,end=' ')\n",
    "\n",
    "n = int(input())\n",
    "print(0,end=\" \")\n",
    "fib(n)"
   ]
  },
  {
   "cell_type": "code",
   "execution_count": 5,
   "metadata": {},
   "outputs": [],
   "source": [
    "# exercicio 1151\n",
    "\n",
    "def f(n):\n",
    "    if n == 1:\n",
    "        return 0\n",
    "    elif n == 2:\n",
    "        return 1\n",
    "    else:\n",
    "        return f(n-1) + f(n-2)"
   ]
  },
  {
   "cell_type": "code",
   "execution_count": 10,
   "metadata": {},
   "outputs": [
    {
     "name": "stdin",
     "output_type": "stream",
     "text": [
      " 4\n"
     ]
    },
    {
     "name": "stdout",
     "output_type": "stream",
     "text": [
      "24\n"
     ]
    }
   ],
   "source": [
    "# exercicio 1153\n",
    "\n",
    "def f(n):\n",
    "    if n == 1:\n",
    "        return 1\n",
    "    if n == 0:\n",
    "        return 1\n",
    "    if n > 1:\n",
    "        return f(n-1) * n\n",
    "\n",
    "i = int(input())\n",
    "print(f(i))"
   ]
  },
  {
   "cell_type": "code",
   "execution_count": 15,
   "metadata": {},
   "outputs": [
    {
     "name": "stdin",
     "output_type": "stream",
     "text": [
      " 4\n",
      " 4\n",
      " 4\n",
      " 4\n",
      " 4\n",
      " 4\n",
      " -4\n"
     ]
    },
    {
     "name": "stdout",
     "output_type": "stream",
     "text": [
      "4.00\n"
     ]
    }
   ],
   "source": [
    "# exercicio 1154\n",
    "idade = 1\n",
    "soma = 0\n",
    "count = 0\n",
    "while idade > 0:\n",
    "    idade = int(input())\n",
    "    if idade < 0:\n",
    "        break\n",
    "    count += 1\n",
    "    soma += idade\n",
    "\n",
    "print(\"{:.2f}\".format(round(soma / count,2)))"
   ]
  },
  {
   "cell_type": "code",
   "execution_count": 19,
   "metadata": {},
   "outputs": [
    {
     "name": "stdout",
     "output_type": "stream",
     "text": [
      "5.19\n"
     ]
    }
   ],
   "source": [
    "# exercicio 1155\n",
    "soma = 0\n",
    "for i in range(1,101):\n",
    "    soma += (1/i)\n",
    "print(\"{:.2f}\".format(soma))"
   ]
  },
  {
   "cell_type": "code",
   "execution_count": 36,
   "metadata": {},
   "outputs": [
    {
     "name": "stdout",
     "output_type": "stream",
     "text": [
      "6.00\n"
     ]
    }
   ],
   "source": [
    "# exercicio 1156\n",
    "\n",
    "# S = 1 + 3/2 + 5/4 + 7/8 + ... + 39/?\n",
    "\n",
    "# numerador\n",
    "# --------\n",
    "# denominador\n",
    "\n",
    "soma = 1\n",
    "denominador = 2\n",
    "for numerador in range(3,40,2):\n",
    "    soma += (numerador/denominador)\n",
    "    # print(\"{} / {}\".format(numerador,denominador))\n",
    "    denominador *= 2\n",
    "    \n",
    "print(\"{:.2f}\".format(soma))"
   ]
  },
  {
   "cell_type": "code",
   "execution_count": 8,
   "metadata": {},
   "outputs": [
    {
     "name": "stdin",
     "output_type": "stream",
     "text": [
      " 4\n"
     ]
    },
    {
     "name": "stdout",
     "output_type": "stream",
     "text": [
      "1\n",
      "2\n",
      "4\n"
     ]
    }
   ],
   "source": [
    "# exercicio 1157\n",
    "\n",
    "n = int(input())\n",
    "\n",
    "for i in range(1,n+1):\n",
    "    if n % i == 0:\n",
    "        print(i)"
   ]
  },
  {
   "cell_type": "code",
   "execution_count": 10,
   "metadata": {},
   "outputs": [
    {
     "name": "stdin",
     "output_type": "stream",
     "text": [
      " 2\n",
      " -1 5\n"
     ]
    },
    {
     "name": "stdout",
     "output_type": "stream",
     "text": [
      "15\n"
     ]
    },
    {
     "name": "stdin",
     "output_type": "stream",
     "text": [
      " 0 8\n"
     ]
    },
    {
     "name": "stdout",
     "output_type": "stream",
     "text": [
      "64\n"
     ]
    }
   ],
   "source": [
    "# exercicio 1158\n",
    "\n",
    "# quantidade de casos\n",
    "nCasos = int(input())\n",
    "\n",
    "# cada caso com um inteiro X e um Y\n",
    "# Y -> soma deles impares consecutivos, a partir de X\n",
    "# se X for impar, começa por elee\n",
    "# faz a soma de Y vezes, começando pelo X\n",
    "# X Y\n",
    "soma = 0\n",
    "repeticao = 0\n",
    "\n",
    "while nCasos > repeticao:\n",
    "    entrada = input().split()\n",
    "    x = int(entrada[0])\n",
    "    y = int(entrada[1])\n",
    "    \n",
    "    if x % 2 != 0:\n",
    "        count_imp = 0\n",
    "        count = 0\n",
    "        i = x\n",
    "        while count_imp != y:\n",
    "            if i % 2 != 0:\n",
    "                soma += i\n",
    "                count_imp += 1\n",
    "            i += 1\n",
    "        print(soma)\n",
    "        count = 0\n",
    "        soma = 0\n",
    "        i = 0\n",
    "    if x % 2 == 0:\n",
    "        count_imp = 0\n",
    "        count = 0\n",
    "        i = x\n",
    "        while count_imp != y:\n",
    "            if i % 2 != 0:\n",
    "                soma += i\n",
    "                count_imp += 1\n",
    "            i += 1\n",
    "        print(soma)\n",
    "        count = 0\n",
    "        soma = 0\n",
    "        i = 0\n",
    "    repeticao += 1"
   ]
  },
  {
   "cell_type": "code",
   "execution_count": 60,
   "metadata": {},
   "outputs": [
    {
     "data": {
      "text/plain": [
       "50"
      ]
     },
     "execution_count": 60,
     "metadata": {},
     "output_type": "execute_result"
    }
   ],
   "source": [
    "5\n",
    "6 7\n",
    "8 2 \n",
    "-1 5\n",
    "0 8\n",
    "3 9"
   ]
  },
  {
   "cell_type": "code",
   "execution_count": null,
   "metadata": {},
   "outputs": [],
   "source": []
  }
 ],
 "metadata": {
  "kernelspec": {
   "display_name": "Python 3 (ipykernel)",
   "language": "python",
   "name": "python3"
  },
  "language_info": {
   "codemirror_mode": {
    "name": "ipython",
    "version": 3
   },
   "file_extension": ".py",
   "mimetype": "text/x-python",
   "name": "python",
   "nbconvert_exporter": "python",
   "pygments_lexer": "ipython3",
   "version": "3.9.7"
  }
 },
 "nbformat": 4,
 "nbformat_minor": 4
}
