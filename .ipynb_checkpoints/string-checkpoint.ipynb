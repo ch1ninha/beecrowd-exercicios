{
 "cells": [
  {
   "cell_type": "code",
   "execution_count": 5,
   "id": "001a51e9",
   "metadata": {},
   "outputs": [
    {
     "name": "stdin",
     "output_type": "stream",
     "text": [
      " 4\n",
      " Texto #3\n"
     ]
    },
    {
     "name": "stdout",
     "output_type": "stream",
     "text": [
      "3# rvzgV\n"
     ]
    },
    {
     "name": "stdin",
     "output_type": "stream",
     "text": [
      " abcABC1\n"
     ]
    },
    {
     "name": "stdout",
     "output_type": "stream",
     "text": [
      "1FECedc\n"
     ]
    },
    {
     "name": "stdin",
     "output_type": "stream",
     "text": [
      " vxpdylY .ph\n"
     ]
    },
    {
     "name": "stdout",
     "output_type": "stream",
     "text": [
      "ks. \\n{frzx\n"
     ]
    },
    {
     "name": "stdin",
     "output_type": "stream",
     "text": [
      " vv.xwfxo.fd\n"
     ]
    },
    {
     "name": "stdout",
     "output_type": "stream",
     "text": [
      "gi.r{hyz-xx\n"
     ]
    }
   ],
   "source": [
    "# 1024 - criptografia\n",
    "\n",
    "rep = int(input())\n",
    "\n",
    "c = 0\n",
    "\n",
    "while rep > c:\n",
    "    entrada = list(input())\n",
    "    \n",
    "    # 1 passada\n",
    "    pos_entrada = \"\"\n",
    "    for letra in entrada:\n",
    "        if letra.isalpha():\n",
    "            pos_entrada += \"\".join(chr(ord(letra) + 3))\n",
    "        else:\n",
    "            pos_entrada += \"\".join(letra)\n",
    "        #print(entrada)\n",
    "        \n",
    "    # 2 passada\n",
    "    pos_entrada = pos_entrada[::-1]\n",
    "    \n",
    "    # 3 passada\n",
    "    n_entrada = len(pos_entrada)\n",
    "    meio_n = n_entrada // 2\n",
    "    resposta_entrada = \"\"\n",
    "    \n",
    "    for letra in pos_entrada[:meio_n]:\n",
    "        resposta_entrada += \"\".join(letra)\n",
    "    \n",
    "    for letra in pos_entrada[meio_n:]:\n",
    "        resposta_entrada += \"\".join(chr(ord(letra) - 1))\n",
    "        \n",
    "    print(resposta_entrada)\n",
    "    c += 1"
   ]
  },
  {
   "cell_type": "code",
   "execution_count": 32,
   "id": "af62de36",
   "metadata": {},
   "outputs": [
    {
     "name": "stdin",
     "output_type": "stream",
     "text": [
      " 0 0\n"
     ]
    }
   ],
   "source": [
    "# 1120 - Revisão de Contrato\n",
    "import functools\n",
    "\n",
    "d = -1\n",
    "n = -1\n",
    "\n",
    "      # uma viajada, os dois numeros precisam ser 0 para isso?\n",
    "while d != \"0\" and n != \"0\":\n",
    "    entrada = input().split()\n",
    "    d = entrada[0]\n",
    "    n = entrada[1]\n",
    "    \n",
    "    if d == \"0\" and n == \"0\":\n",
    "        break\n",
    "        \n",
    "    n_lista = [_ for _ in n]\n",
    "    todos_iguais = True\n",
    "    \n",
    "    for num in n_lista:\n",
    "        if num != d:\n",
    "            todos_iguais = False\n",
    "    \n",
    "    if todos_iguais:\n",
    "        print(0)\n",
    "        continue\n",
    "        \n",
    "    mostrar = \"\"\n",
    "    for letra in n:\n",
    "        if d == letra:\n",
    "            continue\n",
    "        else:\n",
    "            mostrar += \"\".join(letra)\n",
    "    print(int(mostrar))"
   ]
  },
  {
   "cell_type": "code",
   "execution_count": 11,
   "id": "60b8383c",
   "metadata": {},
   "outputs": [
    {
     "name": "stdin",
     "output_type": "stream",
     "text": [
      " 2\n",
      " 115380\n"
     ]
    },
    {
     "name": "stdout",
     "output_type": "stream",
     "text": [
      "27 leds\n"
     ]
    },
    {
     "name": "stdin",
     "output_type": "stream",
     "text": [
      " 2819311\n"
     ]
    },
    {
     "name": "stdout",
     "output_type": "stream",
     "text": [
      "29 leds\n"
     ]
    }
   ],
   "source": [
    "# 1668\n",
    "\n",
    "dic_pontos = {\n",
    "    \"0\":6,\n",
    "    \"1\":2,\n",
    "    \"2\":5,\n",
    "    \"3\":5,\n",
    "    \"4\":4,\n",
    "    \"5\":5,\n",
    "    \"6\":6,\n",
    "    \"7\":3,\n",
    "    \"8\":7,\n",
    "    \"9\":6,\n",
    "}\n",
    "\n",
    "rep = int(input())\n",
    "c = 0\n",
    "\n",
    "while rep > c:\n",
    "    entrada = input()\n",
    "    resposta = 0\n",
    "    for ite_input in entrada:\n",
    "        resposta += dic_pontos[ite_input]\n",
    "    print(\"{} leds\".format(resposta))\n",
    "    c += 1"
   ]
  },
  {
   "cell_type": "code",
   "execution_count": 11,
   "id": "cb9b7e65",
   "metadata": {},
   "outputs": [
    {
     "name": "stdin",
     "output_type": "stream",
     "text": [
      " 1\n",
      " aa bb\n"
     ]
    },
    {
     "name": "stdout",
     "output_type": "stream",
     "text": [
      "abab\n"
     ]
    }
   ],
   "source": [
    "# 1238 - Combinador\n",
    "n = int(input())\n",
    "\n",
    "c = 0\n",
    "while n > c:\n",
    "    entrada = input().split()\n",
    "    l1 = entrada[0]\n",
    "    l2 = entrada[1]\n",
    "    \n",
    "    len1 = len(l1)\n",
    "    len2 = len(l2)\n",
    "    \n",
    "    if len2 > len1:\n",
    "        for i in range(len2-len1):\n",
    "            l1 += \"\".join(\" \")\n",
    "    else:\n",
    "        for i in range(len1-len2):\n",
    "            l2 += \"\".join(\" \")\n",
    "    \n",
    "    res = \"\"\n",
    "    \n",
    "    for palavra1,palavra2 in zip(l1,l2):\n",
    "        res += \"\".join(palavra1)\n",
    "        res += \"\".join(palavra2)\n",
    "        \n",
    "    res = res.replace(\" \",\"\")\n",
    "    print(res)\n",
    "    c += 1"
   ]
  },
  {
   "cell_type": "code",
   "execution_count": null,
   "id": "b8637e76",
   "metadata": {},
   "outputs": [
    {
     "name": "stdin",
     "output_type": "stream",
     "text": [
      " a\n"
     ]
    },
    {
     "name": "stdout",
     "output_type": "stream",
     "text": [
      "A\n"
     ]
    },
    {
     "name": "stdin",
     "output_type": "stream",
     "text": [
      " a\n"
     ]
    },
    {
     "name": "stdout",
     "output_type": "stream",
     "text": [
      "A\n"
     ]
    },
    {
     "name": "stdin",
     "output_type": "stream",
     "text": [
      " b\n"
     ]
    },
    {
     "name": "stdout",
     "output_type": "stream",
     "text": [
      "B\n"
     ]
    },
    {
     "name": "stdin",
     "output_type": "stream",
     "text": [
      " a\n"
     ]
    },
    {
     "name": "stdout",
     "output_type": "stream",
     "text": [
      "A\n"
     ]
    },
    {
     "name": "stdin",
     "output_type": "stream",
     "text": [
      " 2\n"
     ]
    },
    {
     "name": "stdout",
     "output_type": "stream",
     "text": [
      "2\n"
     ]
    },
    {
     "name": "stdin",
     "output_type": "stream",
     "text": [
      " exit()\n"
     ]
    },
    {
     "name": "stdout",
     "output_type": "stream",
     "text": [
      "ExIt()\n"
     ]
    },
    {
     "name": "stdin",
     "output_type": "stream",
     "text": [
      " exit()\n"
     ]
    },
    {
     "name": "stdout",
     "output_type": "stream",
     "text": [
      "ExIt()\n"
     ]
    },
    {
     "name": "stdin",
     "output_type": "stream",
     "text": [
      " aaaaaaaaaaaa\n"
     ]
    },
    {
     "name": "stdout",
     "output_type": "stream",
     "text": [
      "AaAaAaAaAaAa\n"
     ]
    },
    {
     "name": "stdin",
     "output_type": "stream",
     "text": [
      " asdf asdf asdf asdf \n"
     ]
    },
    {
     "name": "stdout",
     "output_type": "stream",
     "text": [
      "AsDf AsDf AsDf AsDf \n"
     ]
    }
   ],
   "source": [
    "# 1234 - Sentença Dançante\n",
    "while True:\n",
    "    try:     \n",
    "        resp = input()\n",
    "        resposta = \"\"\n",
    "        last_maiusculo = False\n",
    "        for letra in resp:\n",
    "            if letra == \" \":\n",
    "                resposta += \"\".join(letra)\n",
    "                continue\n",
    "            if last_maiusculo:\n",
    "                resposta += \"\".join(letra.lower())\n",
    "                last_maiusculo = False # passo o valor da atual\n",
    "            else:\n",
    "                resposta += \"\".join(letra.upper())\n",
    "                last_maiusculo = True # passo o valor do atual\n",
    "        print(resposta)\n",
    "    except EOFError as e:\n",
    "        break"
   ]
  },
  {
   "cell_type": "markdown",
   "id": "f278051b-15b3-4e91-a362-b735e8c00cc1",
   "metadata": {},
   "source": [
    "\n"
   ]
  },
  {
   "cell_type": "code",
   "execution_count": 13,
   "id": "cd9cf53e-ffe2-4b4f-90f9-5e89441b8723",
   "metadata": {},
   "outputs": [
    {
     "name": "stdin",
     "output_type": "stream",
     "text": [
      " 5\n",
      " I ENIL SIHTHSIREBBIG S\n"
     ]
    },
    {
     "name": "stdout",
     "output_type": "stream",
     "text": [
      "THIS LINE IS GIBBERISH\n"
     ]
    },
    {
     "name": "stdin",
     "output_type": "stream",
     "text": [
      " LEVELKAYAK\n"
     ]
    },
    {
     "name": "stdout",
     "output_type": "stream",
     "text": [
      "LEVELKAYAK\n"
     ]
    },
    {
     "name": "stdin",
     "output_type": "stream",
     "text": [
      " H YPPAHSYADILO\n"
     ]
    },
    {
     "name": "stdout",
     "output_type": "stream",
     "text": [
      "HAPPY HOLIDAYS\n"
     ]
    },
    {
     "name": "stdin",
     "output_type": "stream",
     "text": [
      " ABCDEFGHIJKLMNOPQRSTUVWXYZ\n"
     ]
    },
    {
     "name": "stdout",
     "output_type": "stream",
     "text": [
      "MLKJIHGFEDCBAZYXWVUTSRQPON\n"
     ]
    },
    {
     "name": "stdin",
     "output_type": "stream",
     "text": [
      " VOD OWT SNEH HCNERF EGDIRTRAP A DNA SE\n"
     ]
    },
    {
     "name": "stdout",
     "output_type": "stream",
     "text": [
      "FRENCH HENS TWO DOVES AND A PARTRIDGE \n"
     ]
    }
   ],
   "source": [
    "# 1235 - De Dentro para Fora\n",
    "\n",
    "rep = int(input())\n",
    "c = 0\n",
    "while rep > c:\n",
    "    t = input()\n",
    "    n = len(t)\n",
    "    n_2 = n // 2\n",
    "    \n",
    "    primeira_parte = t[:n_2][::-1]\n",
    "    segunda_parte = t[n_2:][::-1]\n",
    "    print(primeira_parte + segunda_parte)\n",
    "    \n",
    "    c += 1"
   ]
  },
  {
   "cell_type": "code",
   "execution_count": 23,
   "id": "f8193f0f-cd82-4b6e-abd7-d165841c440b",
   "metadata": {},
   "outputs": [
    {
     "name": "stdout",
     "output_type": "stream",
     "text": [
      "SemanaPiedadetemcasadocomQuincasBorbaapenasmedariaumaesperancacolateral\n",
      "14 => palavras do conto\n",
      "4 => linhas por pagina\n",
      "20 => maximo de caracteres por pagina\n",
      "Caracteres totais: 3.55\n",
      "0.7\n"
     ]
    }
   ],
   "source": [
    "# 1222 - Concurso de Contos\n",
    "\n",
    "# -> numero maximo de caracteres por linha\n",
    "# -> numero maximo de linhas por pagina\n",
    "# -> numero total de paginas\n",
    "\n",
    "# n -> numero de palavras do conto\n",
    "# l -> numero de linhas por pagina\n",
    "# c -> numero maximo de caracteres por pagina\n",
    "\n",
    "nums = \"14 4 20\".split()#input().split() # 14 4 20\n",
    "n = int(nums[0]) # n -> numero de palavras do conto\n",
    "l = int(nums[1]) # l -> numero de linhas por pagina\n",
    "c = int(nums[2]) # c -> numero maximo de caracteres por pagina\n",
    "\n",
    "conteudo = \"Se mana Piedade tem casado com Quincas Borba apenas me daria uma esperanca colateral\"#input()\n",
    "conteudo = conteudo.split()\n",
    "cont = \"\".join(conteudo)\n",
    "print(cont)\n",
    "\n",
    "print(f\"{n} => palavras do conto\")\n",
    "print(f\"{l} => linhas por pagina\")\n",
    "print(f\"{c} => maximo de caracteres por pagina\")\n",
    "palavras_por_linhas = l / n\n",
    "paginas_do_conto = n / c\n",
    "print(\"Caracteres totais: {}\".format(len(cont)/20))\n",
    "print(paginas_do_conto)"
   ]
  },
  {
   "cell_type": "code",
   "execution_count": 13,
   "id": "5901b9e8-6576-4e95-ac6e-414e7e71e1d0",
   "metadata": {},
   "outputs": [
    {
     "name": "stdin",
     "output_type": "stream",
     "text": [
      " You _should_ see the new walrus at the zoo! Move it from *Accounts Payable* to *Receiving*. I saw _Chelydra serpentina_ in *Centennial Park*. _ _ __ _ yabba dabba _ * dooooo * **** _now_I_know_*my*_ABC_next_time_*sing*it_with_me\n"
     ]
    },
    {
     "name": "stdout",
     "output_type": "stream",
     "text": [
      "You <i>should</i> see the new walrus at the zoo! Move it from <b>Accounts Payable</b> to <b>Receiving</b>. I saw <i>Chelydra serpentina</i> in <b>Centennial Park</b>. <i> </i> <i></i> <i> yabba dabba </i> <b> dooooo </b> <b></b><b></b> <i>now</i>I<i>know</i><b>my</b><i>ABC</i>next<i>time</i><b>sing</b>it<i>with</i>me\n"
     ]
    },
    {
     "name": "stdin",
     "output_type": "stream",
     "text": [
      " a\n"
     ]
    },
    {
     "name": "stdout",
     "output_type": "stream",
     "text": [
      "a\n"
     ]
    },
    {
     "name": "stdin",
     "output_type": "stream",
     "text": [
      " \n"
     ]
    },
    {
     "name": "stdout",
     "output_type": "stream",
     "text": [
      "\n"
     ]
    },
    {
     "name": "stdin",
     "output_type": "stream",
     "text": [
      " \n"
     ]
    },
    {
     "name": "stdout",
     "output_type": "stream",
     "text": [
      "\n"
     ]
    },
    {
     "name": "stdin",
     "output_type": "stream",
     "text": [
      " 123123\n"
     ]
    },
    {
     "name": "stdout",
     "output_type": "stream",
     "text": [
      "123123\n"
     ]
    },
    {
     "ename": "KeyboardInterrupt",
     "evalue": "Interrupted by user",
     "output_type": "error",
     "traceback": [
      "\u001b[1;31m---------------------------------------------------------------------------\u001b[0m",
      "\u001b[1;31mKeyboardInterrupt\u001b[0m                         Traceback (most recent call last)",
      "\u001b[1;32m~\\AppData\\Local\\Temp/ipykernel_1876/2482642197.py\u001b[0m in \u001b[0;36m<module>\u001b[1;34m\u001b[0m\n\u001b[0;32m      3\u001b[0m \u001b[1;32mwhile\u001b[0m \u001b[1;32mTrue\u001b[0m\u001b[1;33m:\u001b[0m\u001b[1;33m\u001b[0m\u001b[1;33m\u001b[0m\u001b[0m\n\u001b[0;32m      4\u001b[0m     \u001b[1;32mtry\u001b[0m\u001b[1;33m:\u001b[0m\u001b[1;33m\u001b[0m\u001b[1;33m\u001b[0m\u001b[0m\n\u001b[1;32m----> 5\u001b[1;33m         \u001b[0m_string\u001b[0m \u001b[1;33m=\u001b[0m \u001b[0minput\u001b[0m\u001b[1;33m(\u001b[0m\u001b[1;33m)\u001b[0m\u001b[1;33m\u001b[0m\u001b[1;33m\u001b[0m\u001b[0m\n\u001b[0m\u001b[0;32m      6\u001b[0m \u001b[1;33m\u001b[0m\u001b[0m\n\u001b[0;32m      7\u001b[0m         \u001b[0m_res\u001b[0m \u001b[1;33m=\u001b[0m \u001b[1;34m\"\"\u001b[0m\u001b[1;33m\u001b[0m\u001b[1;33m\u001b[0m\u001b[0m\n",
      "\u001b[1;32m~\\AppData\\Roaming\\Python\\Python310\\site-packages\\ipykernel\\kernelbase.py\u001b[0m in \u001b[0;36mraw_input\u001b[1;34m(self, prompt)\u001b[0m\n\u001b[0;32m   1005\u001b[0m                 \u001b[1;34m\"raw_input was called, but this frontend does not support input requests.\"\u001b[0m\u001b[1;33m\u001b[0m\u001b[1;33m\u001b[0m\u001b[0m\n\u001b[0;32m   1006\u001b[0m             )\n\u001b[1;32m-> 1007\u001b[1;33m         return self._input_request(\n\u001b[0m\u001b[0;32m   1008\u001b[0m             \u001b[0mstr\u001b[0m\u001b[1;33m(\u001b[0m\u001b[0mprompt\u001b[0m\u001b[1;33m)\u001b[0m\u001b[1;33m,\u001b[0m\u001b[1;33m\u001b[0m\u001b[1;33m\u001b[0m\u001b[0m\n\u001b[0;32m   1009\u001b[0m             \u001b[0mself\u001b[0m\u001b[1;33m.\u001b[0m\u001b[0m_parent_ident\u001b[0m\u001b[1;33m[\u001b[0m\u001b[1;34m\"shell\"\u001b[0m\u001b[1;33m]\u001b[0m\u001b[1;33m,\u001b[0m\u001b[1;33m\u001b[0m\u001b[1;33m\u001b[0m\u001b[0m\n",
      "\u001b[1;32m~\\AppData\\Roaming\\Python\\Python310\\site-packages\\ipykernel\\kernelbase.py\u001b[0m in \u001b[0;36m_input_request\u001b[1;34m(self, prompt, ident, parent, password)\u001b[0m\n\u001b[0;32m   1050\u001b[0m             \u001b[1;32mexcept\u001b[0m \u001b[0mKeyboardInterrupt\u001b[0m\u001b[1;33m:\u001b[0m\u001b[1;33m\u001b[0m\u001b[1;33m\u001b[0m\u001b[0m\n\u001b[0;32m   1051\u001b[0m                 \u001b[1;31m# re-raise KeyboardInterrupt, to truncate traceback\u001b[0m\u001b[1;33m\u001b[0m\u001b[1;33m\u001b[0m\u001b[0m\n\u001b[1;32m-> 1052\u001b[1;33m                 \u001b[1;32mraise\u001b[0m \u001b[0mKeyboardInterrupt\u001b[0m\u001b[1;33m(\u001b[0m\u001b[1;34m\"Interrupted by user\"\u001b[0m\u001b[1;33m)\u001b[0m \u001b[1;32mfrom\u001b[0m \u001b[1;32mNone\u001b[0m\u001b[1;33m\u001b[0m\u001b[1;33m\u001b[0m\u001b[0m\n\u001b[0m\u001b[0;32m   1053\u001b[0m             \u001b[1;32mexcept\u001b[0m \u001b[0mException\u001b[0m\u001b[1;33m:\u001b[0m\u001b[1;33m\u001b[0m\u001b[1;33m\u001b[0m\u001b[0m\n\u001b[0;32m   1054\u001b[0m                 \u001b[0mself\u001b[0m\u001b[1;33m.\u001b[0m\u001b[0mlog\u001b[0m\u001b[1;33m.\u001b[0m\u001b[0mwarning\u001b[0m\u001b[1;33m(\u001b[0m\u001b[1;34m\"Invalid Message:\"\u001b[0m\u001b[1;33m,\u001b[0m \u001b[0mexc_info\u001b[0m\u001b[1;33m=\u001b[0m\u001b[1;32mTrue\u001b[0m\u001b[1;33m)\u001b[0m\u001b[1;33m\u001b[0m\u001b[1;33m\u001b[0m\u001b[0m\n",
      "\u001b[1;31mKeyboardInterrupt\u001b[0m: Interrupted by user"
     ]
    }
   ],
   "source": [
    "# 1239 - Atalhos Bloggo\n",
    "\n",
    "while True:\n",
    "    try:\n",
    "        _string = input()\n",
    "\n",
    "        _res = \"\"\n",
    "        segundo_ast = False\n",
    "        segundo__ = False\n",
    "        for i in _string:\n",
    "            #print(i)\n",
    "            if \"*\" in i:\n",
    "                if segundo_ast:\n",
    "                    _res += '</b>'\n",
    "                    segundo_ast = False\n",
    "                    continue\n",
    "                _res += '<b>'\n",
    "                segundo_ast = True\n",
    "                continue\n",
    "            elif \"_\" in i:\n",
    "                if segundo__:\n",
    "                    _res += '</i>'\n",
    "                    segundo__ = False\n",
    "                    continue\n",
    "                _res += '<i>'\n",
    "                segundo__ = True\n",
    "                continue\n",
    "            _res += i\n",
    "\n",
    "        print(_res)\n",
    "    except EOFError:\n",
    "        break"
   ]
  },
  {
   "cell_type": "code",
   "execution_count": 20,
   "id": "d0677678-138e-4772-91dd-bf8b2ce317e9",
   "metadata": {},
   "outputs": [
    {
     "name": "stdin",
     "output_type": "stream",
     "text": [
      " 1\n",
      " 54 64545454545454545454545454545454554\n"
     ]
    },
    {
     "name": "stdout",
     "output_type": "stream",
     "text": [
      "nao encaixa\n"
     ]
    }
   ],
   "source": [
    "# 1241 - Encaixa ou Não II\n",
    "\n",
    "rep = int(input())\n",
    "\n",
    "for repeticoes in range(rep):\n",
    "    _string = input().split()\n",
    "    n_parm = _string[0]\n",
    "    n_verificar = _string[1]\n",
    "    \n",
    "    if n_verificar == n_parm[len(n_parm) - len(n_verificar):]:\n",
    "        print(\"encaixa\")\n",
    "    else:\n",
    "        print(\"nao encaixa\")"
   ]
  },
  {
   "cell_type": "code",
   "execution_count": 58,
   "id": "14a0228a-11d2-4c75-887c-3a9bc3cce4af",
   "metadata": {},
   "outputs": [
    {
     "name": "stdout",
     "output_type": "stream",
     "text": [
      "T\n"
     ]
    },
    {
     "data": {
      "text/plain": [
       "'V'"
      ]
     },
     "execution_count": 58,
     "metadata": {},
     "output_type": "execute_result"
    }
   ],
   "source": [
    "letra = {n:i for (n,i) in enumerate(string.ascii_uppercase)}\n",
    "\n",
    "\n",
    "x = (abc.index(c) + qtde) % len(abc)\n",
    "letra[x]"
   ]
  },
  {
   "cell_type": "code",
   "execution_count": 95,
   "id": "8ae97049-b133-48ba-9bea-643c2b7aab33",
   "metadata": {},
   "outputs": [
    {
     "name": "stdin",
     "output_type": "stream",
     "text": [
      " 1\n",
      " ZWBGLZ\n",
      " 25\n"
     ]
    },
    {
     "name": "stdout",
     "output_type": "stream",
     "text": [
      "AXCHMA\n"
     ]
    }
   ],
   "source": [
    "# 1253 - Cifra de Sésar\n",
    "\n",
    "import string\n",
    "abc = string.ascii_uppercase\n",
    "letra = {n:i for (n,i) in enumerate(abc)}\n",
    "\n",
    "rep = int(input())\n",
    "_res = \"\"\n",
    "for _r in range(rep):\n",
    "    _palavra = input()\n",
    "    qtde = int(input())\n",
    "    for c in _palavra:\n",
    "        pular = (abc.index(c) - qtde) if (abc.index(c) - qtde) >= 0 else (abc.index(c) - qtde) + (len(abc)) #else len(abc) - (abc.index(c) - qtde)#abc.index(c) - qtde\n",
    "        _res += letra[pular]\n",
    "    print(_res)\n",
    "    _res = \"\"\n",
    "        #_res += letra[1]"
   ]
  },
  {
   "cell_type": "code",
   "execution_count": null,
   "id": "659e8a06-c3b2-43a0-b7ba-4d5807430d90",
   "metadata": {},
   "outputs": [],
   "source": []
  }
 ],
 "metadata": {
  "kernelspec": {
   "display_name": "Python 3 (ipykernel)",
   "language": "python",
   "name": "python3"
  },
  "language_info": {
   "codemirror_mode": {
    "name": "ipython",
    "version": 3
   },
   "file_extension": ".py",
   "mimetype": "text/x-python",
   "name": "python",
   "nbconvert_exporter": "python",
   "pygments_lexer": "ipython3",
   "version": "3.10.1"
  }
 },
 "nbformat": 4,
 "nbformat_minor": 5
}
