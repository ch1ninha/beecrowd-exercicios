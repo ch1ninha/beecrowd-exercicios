{
 "cells": [
  {
   "cell_type": "code",
   "execution_count": 5,
   "id": "001a51e9",
   "metadata": {},
   "outputs": [
    {
     "name": "stdin",
     "output_type": "stream",
     "text": [
      " 4\n",
      " Texto #3\n"
     ]
    },
    {
     "name": "stdout",
     "output_type": "stream",
     "text": [
      "3# rvzgV\n"
     ]
    },
    {
     "name": "stdin",
     "output_type": "stream",
     "text": [
      " abcABC1\n"
     ]
    },
    {
     "name": "stdout",
     "output_type": "stream",
     "text": [
      "1FECedc\n"
     ]
    },
    {
     "name": "stdin",
     "output_type": "stream",
     "text": [
      " vxpdylY .ph\n"
     ]
    },
    {
     "name": "stdout",
     "output_type": "stream",
     "text": [
      "ks. \\n{frzx\n"
     ]
    },
    {
     "name": "stdin",
     "output_type": "stream",
     "text": [
      " vv.xwfxo.fd\n"
     ]
    },
    {
     "name": "stdout",
     "output_type": "stream",
     "text": [
      "gi.r{hyz-xx\n"
     ]
    }
   ],
   "source": [
    "# 1024 - criptografia\n",
    "\n",
    "rep = int(input())\n",
    "\n",
    "c = 0\n",
    "\n",
    "while rep > c:\n",
    "    entrada = list(input())\n",
    "    \n",
    "    # 1 passada\n",
    "    pos_entrada = \"\"\n",
    "    for letra in entrada:\n",
    "        if letra.isalpha():\n",
    "            pos_entrada += \"\".join(chr(ord(letra) + 3))\n",
    "        else:\n",
    "            pos_entrada += \"\".join(letra)\n",
    "        #print(entrada)\n",
    "        \n",
    "    # 2 passada\n",
    "    pos_entrada = pos_entrada[::-1]\n",
    "    \n",
    "    # 3 passada\n",
    "    n_entrada = len(pos_entrada)\n",
    "    meio_n = n_entrada // 2\n",
    "    resposta_entrada = \"\"\n",
    "    \n",
    "    for letra in pos_entrada[:meio_n]:\n",
    "        resposta_entrada += \"\".join(letra)\n",
    "    \n",
    "    for letra in pos_entrada[meio_n:]:\n",
    "        resposta_entrada += \"\".join(chr(ord(letra) - 1))\n",
    "        \n",
    "    print(resposta_entrada)\n",
    "    c += 1"
   ]
  },
  {
   "cell_type": "code",
   "execution_count": 32,
   "id": "af62de36",
   "metadata": {},
   "outputs": [
    {
     "name": "stdin",
     "output_type": "stream",
     "text": [
      " 0 0\n"
     ]
    }
   ],
   "source": [
    "# 1120 - Revisão de Contrato\n",
    "import functools\n",
    "\n",
    "d = -1\n",
    "n = -1\n",
    "\n",
    "      # uma viajada, os dois numeros precisam ser 0 para isso?\n",
    "while d != \"0\" and n != \"0\":\n",
    "    entrada = input().split()\n",
    "    d = entrada[0]\n",
    "    n = entrada[1]\n",
    "    \n",
    "    if d == \"0\" and n == \"0\":\n",
    "        break\n",
    "        \n",
    "    n_lista = [_ for _ in n]\n",
    "    todos_iguais = True\n",
    "    \n",
    "    for num in n_lista:\n",
    "        if num != d:\n",
    "            todos_iguais = False\n",
    "    \n",
    "    if todos_iguais:\n",
    "        print(0)\n",
    "        continue\n",
    "        \n",
    "    mostrar = \"\"\n",
    "    for letra in n:\n",
    "        if d == letra:\n",
    "            continue\n",
    "        else:\n",
    "            mostrar += \"\".join(letra)\n",
    "    print(int(mostrar))"
   ]
  },
  {
   "cell_type": "code",
   "execution_count": 11,
   "id": "60b8383c",
   "metadata": {},
   "outputs": [
    {
     "name": "stdin",
     "output_type": "stream",
     "text": [
      " 2\n",
      " 115380\n"
     ]
    },
    {
     "name": "stdout",
     "output_type": "stream",
     "text": [
      "27 leds\n"
     ]
    },
    {
     "name": "stdin",
     "output_type": "stream",
     "text": [
      " 2819311\n"
     ]
    },
    {
     "name": "stdout",
     "output_type": "stream",
     "text": [
      "29 leds\n"
     ]
    }
   ],
   "source": [
    "# 1668\n",
    "\n",
    "dic_pontos = {\n",
    "    \"0\":6,\n",
    "    \"1\":2,\n",
    "    \"2\":5,\n",
    "    \"3\":5,\n",
    "    \"4\":4,\n",
    "    \"5\":5,\n",
    "    \"6\":6,\n",
    "    \"7\":3,\n",
    "    \"8\":7,\n",
    "    \"9\":6,\n",
    "}\n",
    "\n",
    "rep = int(input())\n",
    "c = 0\n",
    "\n",
    "while rep > c:\n",
    "    entrada = input()\n",
    "    resposta = 0\n",
    "    for ite_input in entrada:\n",
    "        resposta += dic_pontos[ite_input]\n",
    "    print(\"{} leds\".format(resposta))\n",
    "    c += 1"
   ]
  },
  {
   "cell_type": "code",
   "execution_count": 11,
   "id": "cb9b7e65",
   "metadata": {},
   "outputs": [
    {
     "name": "stdin",
     "output_type": "stream",
     "text": [
      " 1\n",
      " aa bb\n"
     ]
    },
    {
     "name": "stdout",
     "output_type": "stream",
     "text": [
      "abab\n"
     ]
    }
   ],
   "source": [
    "# 1238 - Combinador\n",
    "n = int(input())\n",
    "\n",
    "c = 0\n",
    "while n > c:\n",
    "    entrada = input().split()\n",
    "    l1 = entrada[0]\n",
    "    l2 = entrada[1]\n",
    "    \n",
    "    len1 = len(l1)\n",
    "    len2 = len(l2)\n",
    "    \n",
    "    if len2 > len1:\n",
    "        for i in range(len2-len1):\n",
    "            l1 += \"\".join(\" \")\n",
    "    else:\n",
    "        for i in range(len1-len2):\n",
    "            l2 += \"\".join(\" \")\n",
    "    \n",
    "    res = \"\"\n",
    "    \n",
    "    for palavra1,palavra2 in zip(l1,l2):\n",
    "        res += \"\".join(palavra1)\n",
    "        res += \"\".join(palavra2)\n",
    "        \n",
    "    res = res.replace(\" \",\"\")\n",
    "    print(res)\n",
    "    c += 1"
   ]
  },
  {
   "cell_type": "code",
   "execution_count": null,
   "id": "b8637e76",
   "metadata": {},
   "outputs": [],
   "source": []
  }
 ],
 "metadata": {
  "kernelspec": {
   "display_name": "Python 3 (ipykernel)",
   "language": "python",
   "name": "python3"
  },
  "language_info": {
   "codemirror_mode": {
    "name": "ipython",
    "version": 3
   },
   "file_extension": ".py",
   "mimetype": "text/x-python",
   "name": "python",
   "nbconvert_exporter": "python",
   "pygments_lexer": "ipython3",
   "version": "3.10.1"
  }
 },
 "nbformat": 4,
 "nbformat_minor": 5
}
