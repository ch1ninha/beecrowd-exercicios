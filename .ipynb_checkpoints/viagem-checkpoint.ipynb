{
 "cells": [
  {
   "cell_type": "code",
   "execution_count": 88,
   "metadata": {},
   "outputs": [
    {
     "data": {
      "text/plain": [
       "'ave'"
      ]
     },
     "execution_count": 88,
     "metadata": {},
     "output_type": "execute_result"
    }
   ],
   "source": [
    "animais['aguia'][1]"
   ]
  },
  {
   "cell_type": "markdown",
   "metadata": {},
   "source": [
    "<h2>Incompletos \\/</h2>"
   ]
  },
  {
   "cell_type": "code",
   "execution_count": 64,
   "metadata": {},
   "outputs": [
    {
     "data": {
      "text/plain": [
       "[6.0, 6.0, 10.0]"
      ]
     },
     "execution_count": 64,
     "metadata": {},
     "output_type": "execute_result"
    }
   ],
   "source": [
    "lista"
   ]
  },
  {
   "cell_type": "code",
   "execution_count": 57,
   "metadata": {},
   "outputs": [
    {
     "name": "stdin",
     "output_type": "stream",
     "text": [
      " 10 15 10\n"
     ]
    }
   ],
   "source": [
    "A = input().split()\n",
    "lista = []\n",
    "for num in A:\n",
    "    num = float(num)\n",
    "    lista.append(num)"
   ]
  },
  {
   "cell_type": "markdown",
   "metadata": {},
   "source": [
    "<h1>EXERCICIOS</h1>"
   ]
  },
  {
   "cell_type": "code",
   "execution_count": 57,
   "metadata": {},
   "outputs": [
    {
     "name": "stdin",
     "output_type": "stream",
     "text": [
      " 6.0 4.0 2.1\n"
     ]
    },
    {
     "name": "stdout",
     "output_type": "stream",
     "text": [
      "Perimetro = 12.1\n"
     ]
    }
   ],
   "source": [
    "#triangulo 1043\n",
    "A = input().split()\n",
    "\n",
    "a = float(A[0])\n",
    "b = float(A[1])\n",
    "c = float(A[2])\n",
    "\n",
    "if a < b + c and b < c + a and c < a + b:\n",
    "    resultado = a + b + c\n",
    "    print('Perimetro = {:.1f}'.format(resultado))\n",
    "else:\n",
    "    area = round(((a+b)/2)*c,1)\n",
    "    print(\"Area = {}\".format(area))"
   ]
  },
  {
   "cell_type": "code",
   "execution_count": 67,
   "metadata": {},
   "outputs": [
    {
     "name": "stdin",
     "output_type": "stream",
     "text": [
      " 10 10 10\n"
     ]
    },
    {
     "name": "stdout",
     "output_type": "stream",
     "text": [
      "TRIANGULO ACUTANGULO\n",
      "TRIANGULO EQUILATERO\n"
     ]
    }
   ],
   "source": [
    "# 1045 - Tipos de Triângulos\n",
    "A = input().split()\n",
    "lista = []\n",
    "for num in A:\n",
    "    num = float(num)\n",
    "    lista.append(num)\n",
    "\n",
    "for j in range(1,len(lista)):\n",
    "    chave = lista[j]\n",
    "    i = j-1\n",
    "    while i>=0 and chave<lista[i]:\n",
    "        lista[i+1] = lista[i]\n",
    "        i = i - 1\n",
    "    lista[i+1] = chave\n",
    "\n",
    "a = lista[2]\n",
    "b = lista[1]\n",
    "c = lista[0]\n",
    "for teste in range(0,1):\n",
    "    if a >= (b+c):\n",
    "        print(\"NAO FORMA TRIANGULO\")\n",
    "        break\n",
    "    if (a**2) == ((b**2)+(c**2)):\n",
    "        print(\"TRIANGULO RETANGULO\")\n",
    "    if (a**2) > ((b**2)+(c**2)):\n",
    "        print(\"TRIANGULO OBTUSANGULO\")\n",
    "    if (a**2) < ((b**2)+(c**2)):\n",
    "        print(\"TRIANGULO ACUTANGULO\")\n",
    "    if a == b and a == c and b == c:\n",
    "        print(\"TRIANGULO EQUILATERO\")\n",
    "    for i in range(0,3):\n",
    "        if a == b or a == c:\n",
    "            if b != c:\n",
    "                print(\"TRIANGULO ISOSCELES\")\n",
    "                break\n",
    "        if b == c or b == a:\n",
    "            if a != c:\n",
    "                print(\"TRIANGULO ISOSCELES\")\n",
    "                break\n",
    "        if c == a or c == b:\n",
    "            if b != a:\n",
    "                print(\"TRIANGULO ISOSCELES\")\n",
    "                break"
   ]
  },
  {
   "cell_type": "code",
   "execution_count": 22,
   "metadata": {},
   "outputs": [
    {
     "name": "stdin",
     "output_type": "stream",
     "text": [
      " 10 8\n"
     ]
    },
    {
     "name": "stdout",
     "output_type": "stream",
     "text": [
      "O JOGO DUROU 22 HORA(S)\n"
     ]
    }
   ],
   "source": [
    "# Exercicio 1046\n",
    "A = input().split()\n",
    "\n",
    "a = int(A[0])\n",
    "b = int(A[1])\n",
    "\n",
    "if a > b:\n",
    "    hora = (24 - a) + b\n",
    "    print(\"O JOGO DUROU {} HORA(S)\".format(hora))\n",
    "elif a < b:\n",
    "    hora = b - a\n",
    "    print(\"O JOGO DUROU {} HORA(S)\".format(hora))\n",
    "elif a == b:\n",
    "    print(\"O JOGO DUROU 24 HORA(S)\")"
   ]
  },
  {
   "cell_type": "code",
   "execution_count": 52,
   "metadata": {},
   "outputs": [
    {
     "name": "stdin",
     "output_type": "stream",
     "text": [
      " 9 10 7 8\n"
     ]
    },
    {
     "name": "stdout",
     "output_type": "stream",
     "text": [
      "O JOGO DUROU 21 HORA(S) E 58 MINUTO(S)\n"
     ]
    }
   ],
   "source": [
    "# exercicio 1047\n",
    "A = input().split()\n",
    "\n",
    "horaA = int(A[0])\n",
    "minA = int(A[1])\n",
    "horaB = int(A[2])\n",
    "minB = int(A[3])\n",
    "\n",
    "if horaA > horaB:\n",
    "    if minA > minB:\n",
    "        horaR = ((24 - horaA) + horaB ) - 1\n",
    "        minR = (60 - minA) + minB\n",
    "        print(\"O JOGO DUROU {} HORA(S) E {} MINUTO(S)\".format(horaR,minR))\n",
    "    elif minB > minA:\n",
    "        horaR = (24 - horaA) + horaB\n",
    "        minR = minB - minA\n",
    "        print(\"O JOGO DUROU {} HORA(S) E {} MINUTO(S)\".format(horaR,minR))\n",
    "    elif minA == minB:\n",
    "        horaR = (24 - horaA) + horaB\n",
    "        minR = 0\n",
    "        print(\"O JOGO DUROU {} HORA(S) E {} MINUTO(S)\".format(horaR,minR))\n",
    "elif horaB > horaA:\n",
    "    if minB > minA:\n",
    "        horaR = horaB - horaA\n",
    "        minR = minB - minA\n",
    "        print(\"O JOGO DUROU {} HORA(S) E {} MINUTO(S)\".format(horaR,minR))\n",
    "    elif minA > minB:\n",
    "        horaR = (horaB - horaA) - 1\n",
    "        minR = (60 - minA) + minB\n",
    "        print(\"O JOGO DUROU {} HORA(S) E {} MINUTO(S)\".format(horaR,minR))\n",
    "    elif minA == minB:\n",
    "        horaR = horaB - horaA\n",
    "        minR = 0\n",
    "        print(\"O JOGO DUROU {} HORA(S) E {} MINUTO(S)\".format(horaR,minR))\n",
    "elif horaA == horaB:\n",
    "    if minB > minA:\n",
    "        minR = minB - minA\n",
    "        horaR = 0\n",
    "        print(\"O JOGO DUROU {} HORA(S) E {} MINUTO(S)\".format(horaR,minR))\n",
    "    elif minA > minB:\n",
    "        horaR = 23\n",
    "        minR = (60-minA) + minB\n",
    "        print(\"O JOGO DUROU {} HORA(S) E {} MINUTO(S)\".format(horaR,minR))\n",
    "    elif minA == minB:\n",
    "        horaR = 24\n",
    "        minR = 0\n",
    "        print(\"O JOGO DUROU {} HORA(S) E {} MINUTO(S)\".format(horaR,minR))"
   ]
  },
  {
   "cell_type": "code",
   "execution_count": 64,
   "metadata": {},
   "outputs": [
    {
     "name": "stdin",
     "output_type": "stream",
     "text": [
      " 2000\n"
     ]
    },
    {
     "name": "stdout",
     "output_type": "stream",
     "text": [
      "Novo salario: 2140.00\n",
      "Reajuste ganho: 140.00\n",
      "Em percentual: 7 %\n"
     ]
    }
   ],
   "source": [
    "#exercicio 1048\n",
    "salario = float(input())\n",
    "\n",
    "if salario > 0 and salario <= 400:\n",
    "    perc = 15\n",
    "    rea = round(salario * (perc / 100),2)\n",
    "    novoSal = round(rea + salario,2)\n",
    "    print(\"Novo salario: {:.2f}\".format(novoSal))\n",
    "    print(\"Reajuste ganho: {:.2f}\".format(rea))\n",
    "    print(\"Em percentual: {} %\".format(perc))\n",
    "elif salario > 400 and salario <= 800:\n",
    "    perc = 12\n",
    "    rea = round(salario * (perc / 100),2)\n",
    "    novoSal = round(rea + salario,2)\n",
    "    print(\"Novo salario: {:.2f}\".format(novoSal))\n",
    "    print(\"Reajuste ganho: {:.2f}\".format(rea))\n",
    "    print(\"Em percentual: {} %\".format(perc))\n",
    "elif salario > 800 and salario <= 1200:\n",
    "    perc = 10\n",
    "    rea = round(salario * (perc / 100),2)\n",
    "    novoSal = round(rea + salario,2)\n",
    "    print(\"Novo salario: {:.2f}\".format(novoSal))\n",
    "    print(\"Reajuste ganho: {:.2f}\".format(rea))\n",
    "    print(\"Em percentual: {} %\".format(perc))\n",
    "elif salario > 1200 and salario <= 2000:\n",
    "    perc = 7\n",
    "    rea = round(salario * (perc / 100),2)\n",
    "    novoSal = round(rea + salario,2)\n",
    "    print(\"Novo salario: {:.2f}\".format(novoSal))\n",
    "    print(\"Reajuste ganho: {:.2f}\".format(rea))\n",
    "    print(\"Em percentual: {} %\".format(perc))\n",
    "elif salario > 2000:\n",
    "    perc = 4\n",
    "    rea = round(salario * (perc / 100),2)\n",
    "    novoSal = round(rea + salario,2)\n",
    "    print(\"Novo salario: {:.2f}\".format(novoSal))\n",
    "    print(\"Reajuste ganho: {:.2f}\".format(rea))\n",
    "    print(\"Em percentual: {} %\".format(perc)) "
   ]
  },
  {
   "cell_type": "code",
   "execution_count": 97,
   "metadata": {},
   "outputs": [
    {
     "name": "stdin",
     "output_type": "stream",
     "text": [
      " vertebrado\n",
      " ave\n",
      " carnivoro\n"
     ]
    },
    {
     "name": "stdout",
     "output_type": "stream",
     "text": [
      "aguia\n"
     ]
    }
   ],
   "source": [
    "# exercicio 1049\n",
    "carac1 = input()\n",
    "carac2 = input()\n",
    "carac3 = input()\n",
    "\n",
    "animais = {\"aguia\":[\"vertebrado\",\"ave\",\"carnivoro\"],\n",
    "           \"pomba\":[\"vertebrado\",\"ave\",\"onivoro\"],\n",
    "           \"homem\":[\"vertebrado\",\"mamifero\",\"onivoro\"],\n",
    "           \"vaca\":[\"vertebrado\",\"mamifero\",\"herbivoro\"],\n",
    "           \"pulga\":[\"invertebrado\",\"inseto\",\"hematofago\"],\n",
    "           \"lagarta\":[\"invertebrado\",\"inseto\",\"herbivoro\"],\n",
    "           \"sanguessuga\":[\"invertebrado\",\"anelideo\",\"hematofago\"],\n",
    "           \"minhoca\":[\"invertebrado\",\"anelideo\",\"onivoro\"]\n",
    "          }\n",
    "for chaves in animais:\n",
    "    for skills in animais[f\"{chaves}\"]:\n",
    "        #print(f\"skills: {skills}\")\n",
    "        if carac1 == skills:\n",
    "            if carac2 == animais[f\"{chaves}\"][1]:\n",
    "                if carac3 == animais[f\"{chaves}\"][2]:\n",
    "                    print(chaves)"
   ]
  },
  {
   "cell_type": "code",
   "execution_count": 119,
   "metadata": {},
   "outputs": [
    {
     "name": "stdin",
     "output_type": "stream",
     "text": [
      " 21\n"
     ]
    },
    {
     "name": "stdout",
     "output_type": "stream",
     "text": [
      "Rio de Janeiro\n"
     ]
    }
   ],
   "source": [
    "#exercicio 1050\n",
    "ddd = int(input())\n",
    "\n",
    "cidades =  {61:\"Brasilia\",\n",
    "            71:\"Salvador\",\n",
    "            11:\"Sao Paulo\",\n",
    "            21:\"Rio de Janeiro\",\n",
    "            32:\"Juiz de Fora\",\n",
    "            19:\"Campinas\",\n",
    "            27:\"Vitoria\",\n",
    "            31:\"Belo Horizonte\"}\n",
    "if ddd not in cidades.keys():\n",
    "    print(\"DDD nao cadastrado\")\n",
    "\n",
    "for num_city in cidades:\n",
    "    if num_city == ddd:\n",
    "        print(cidades[int(f\"{num_city}\")])\n",
    "        break"
   ]
  },
  {
   "cell_type": "code",
   "execution_count": 167,
   "metadata": {},
   "outputs": [
    {
     "name": "stdin",
     "output_type": "stream",
     "text": [
      " 5000\n"
     ]
    },
    {
     "name": "stdout",
     "output_type": "stream",
     "text": [
      "R$ 490.00\n"
     ]
    }
   ],
   "source": [
    "#exercicio 1051\n",
    "salario = float(input())\n",
    "\n",
    "if salario <= 2000:\n",
    "    print(\"Isento\")\n",
    "elif salario <= 3000:\n",
    "    taxa8 = salario % 2000\n",
    "    taxa = taxa8 * 0.08\n",
    "    print(\"R$ {:.2f}\".format(taxa))\n",
    "elif salario > 3000 and salario <= 4500:\n",
    "    taxa8 = 1000\n",
    "    taxa18 = salario % 3000\n",
    "    taxa = (taxa8 * 0.08) + (taxa18 * 0.18)\n",
    "    print(\"R$ {:.2f}\".format(taxa))\n",
    "elif salario > 4500:\n",
    "    taxa8 = 1000\n",
    "    taxa18 = 1500\n",
    "    taxa28 = salario - (taxa8 + taxa18 + 2000)\n",
    "    taxa = (taxa8 * 0.08) + (taxa18 * 0.18) + (taxa28 * 0.28)\n",
    "    print(\"R$ {:.2f}\".format(taxa))"
   ]
  },
  {
   "cell_type": "code",
   "execution_count": 171,
   "metadata": {},
   "outputs": [
    {
     "name": "stdin",
     "output_type": "stream",
     "text": [
      " 2\n"
     ]
    },
    {
     "name": "stdout",
     "output_type": "stream",
     "text": [
      "February\n"
     ]
    }
   ],
   "source": [
    "#exercicio 1052\n",
    "mes = int(input())\n",
    "meses = {\n",
    "    1: \"January\",\n",
    "    2: \"February\",\n",
    "    3: \"March\",\n",
    "    4: \"April\",\n",
    "    5: \"May\",\n",
    "    6: \"June\",\n",
    "    7: \"July\",\n",
    "    8: \"August\",\n",
    "    9: \"September\",\n",
    "    10: \"October\",\n",
    "    11: \"November\",\n",
    "    12: \"December\"\n",
    "    }\n",
    "\n",
    "for i in meses:\n",
    "    if i == mes:\n",
    "        print(meses[int(f\"{i}\")])"
   ]
  },
  {
   "cell_type": "code",
   "execution_count": 121,
   "metadata": {},
   "outputs": [
    {
     "name": "stdout",
     "output_type": "stream",
     "text": [
      "2\n",
      "4\n",
      "6\n",
      "8\n",
      "10\n",
      "12\n",
      "14\n",
      "16\n",
      "18\n",
      "20\n",
      "22\n",
      "24\n",
      "26\n",
      "28\n",
      "30\n",
      "32\n",
      "34\n",
      "36\n",
      "38\n",
      "40\n",
      "42\n",
      "44\n",
      "46\n",
      "48\n",
      "50\n",
      "52\n",
      "54\n",
      "56\n",
      "58\n",
      "60\n",
      "62\n",
      "64\n",
      "66\n",
      "68\n",
      "70\n",
      "72\n",
      "74\n",
      "76\n",
      "78\n",
      "80\n",
      "82\n",
      "84\n",
      "86\n",
      "88\n",
      "90\n",
      "92\n",
      "94\n",
      "96\n",
      "98\n",
      "100\n"
     ]
    }
   ],
   "source": [
    "#exercicio 1059\n",
    "for i in range(2,101,2):\n",
    "    print(i)"
   ]
  },
  {
   "cell_type": "code",
   "execution_count": 182,
   "metadata": {},
   "outputs": [
    {
     "name": "stdin",
     "output_type": "stream",
     "text": [
      " 4\n",
      " 4\n",
      " 4\n",
      " 5\n",
      " 2\n",
      " 6\n"
     ]
    },
    {
     "name": "stdout",
     "output_type": "stream",
     "text": [
      "6 valores positivos\n"
     ]
    }
   ],
   "source": [
    "#exercicio 1060\n",
    "x = 0\n",
    "lista = list()\n",
    "while x < 6:\n",
    "    num = float(input())\n",
    "    lista.append(num)\n",
    "    x += 1\n",
    "\n",
    "countPosi = 0\n",
    "for i in lista:\n",
    "    if i > 0:\n",
    "        countPosi += 1\n",
    "print(\"{} valores positivos\".format(countPosi))"
   ]
  },
  {
   "cell_type": "code",
   "execution_count": null,
   "metadata": {},
   "outputs": [],
   "source": [
    "# exercicio 1061\n",
    "dia1 = input()\n",
    "hora1 = input()\n",
    "dia2 = input()\n",
    "hora2 = input()\n"
   ]
  },
  {
   "cell_type": "code",
   "execution_count": 187,
   "metadata": {},
   "outputs": [
    {
     "name": "stdin",
     "output_type": "stream",
     "text": [
      " 7\n",
      " -5\n",
      " 6\n",
      " -3.4\n",
      " 4.6\n",
      " 12\n"
     ]
    },
    {
     "name": "stdout",
     "output_type": "stream",
     "text": [
      "4 valores positivos\n",
      "7.4\n"
     ]
    }
   ],
   "source": [
    "#exercicio 1064\n",
    "\n",
    "x = 0\n",
    "lista = list()\n",
    "while x < 6:\n",
    "    num = float(input())\n",
    "    lista.append(num)\n",
    "    x += 1\n",
    "\n",
    "count = 0\n",
    "countPosi = 0\n",
    "quantas = 0\n",
    "for i in lista:\n",
    "    if i > 0:\n",
    "        countPosi += 1\n",
    "        count += i\n",
    "        quantas += 1\n",
    "media = round(count / quantas,1)\n",
    "print(\"{} valores positivos\".format(countPosi))\n",
    "print(media)"
   ]
  },
  {
   "cell_type": "code",
   "execution_count": 5,
   "metadata": {},
   "outputs": [
    {
     "name": "stdin",
     "output_type": "stream",
     "text": [
      " 7\n",
      " 5\n",
      " 6\n",
      " 4\n",
      " 12\n"
     ]
    },
    {
     "name": "stdout",
     "output_type": "stream",
     "text": [
      "3  valores pares\n"
     ]
    }
   ],
   "source": [
    "# exercicio 1065\n",
    "x = 0\n",
    "lista = list()\n",
    "pares = 0\n",
    "while x < 5:\n",
    "    num = float(input())\n",
    "    lista.append(num)\n",
    "    x += 1\n",
    "\n",
    "for numeros in lista:\n",
    "    if numeros % 2 ==0:\n",
    "        pares += 1\n",
    "print(\"{} valores pares\".format(pares))"
   ]
  },
  {
   "cell_type": "code",
   "execution_count": 10,
   "metadata": {},
   "outputs": [
    {
     "name": "stdin",
     "output_type": "stream",
     "text": [
      " -5\n",
      " 0\n",
      " -3\n",
      " -4\n",
      " 12\n"
     ]
    },
    {
     "name": "stdout",
     "output_type": "stream",
     "text": [
      "3 valor(es) par(es)\n",
      "2 valor(es) impar(es)\n",
      "1 valor(es) positivo(s)\n",
      "3 valor(es) negativo(s)\n"
     ]
    }
   ],
   "source": [
    "# exercicio 1066\n",
    "x = 0\n",
    "lista = list()\n",
    "pares = 0\n",
    "impares = 0\n",
    "posi = 0\n",
    "nega = 0\n",
    "while x < 5:\n",
    "    num = float(input())\n",
    "    lista.append(num)\n",
    "    x += 1\n",
    "\n",
    "for numeros in lista:\n",
    "    if numeros>0:\n",
    "        posi += 1\n",
    "        if numeros % 2 == 0:\n",
    "            pares += 1\n",
    "        elif numeros % 2 != 0:\n",
    "            impares += 1\n",
    "    elif numeros<0:\n",
    "        nega += 1\n",
    "        if numeros % 2 == 0:\n",
    "            pares += 1\n",
    "        elif numeros % 2 != 0:\n",
    "            impares += 1\n",
    "    elif numeros == 0:\n",
    "        if numeros % 2 == 0:\n",
    "            pares += 1\n",
    "        elif numeros % 2 != 0:\n",
    "            impares += 1\n",
    "            \n",
    "print(\"{} valor(es) par(es)\".format(pares))\n",
    "print(\"{} valor(es) impar(es)\".format(impares))\n",
    "print(\"{} valor(es) positivo(s)\".format(posi))\n",
    "print(\"{} valor(es) negativo(s)\".format(nega))"
   ]
  },
  {
   "cell_type": "code",
   "execution_count": 19,
   "metadata": {},
   "outputs": [
    {
     "name": "stdin",
     "output_type": "stream",
     "text": [
      " 9\n"
     ]
    },
    {
     "name": "stdout",
     "output_type": "stream",
     "text": [
      "9\n",
      "11\n",
      "13\n",
      "15\n",
      "17\n",
      "19\n"
     ]
    }
   ],
   "source": [
    "#exercicio 1067\n",
    "num = int(input())\n",
    "contagemFim = 0\n",
    "\n",
    "while contagemFim < 6:\n",
    "    if num % 2 != 0:\n",
    "        print(num)\n",
    "        contagemFim += 1\n",
    "    num += 1"
   ]
  },
  {
   "cell_type": "code",
   "execution_count": null,
   "metadata": {},
   "outputs": [],
   "source": [
    "#exercicio 1070\n",
    "num = int(input())\n",
    "\n",
    "for i in range(0,num+1):\n",
    "    if i % 2 != 0:\n",
    "        print(i)"
   ]
  },
  {
   "cell_type": "code",
   "execution_count": 29,
   "metadata": {},
   "outputs": [
    {
     "name": "stdin",
     "output_type": "stream",
     "text": [
      " 15\n",
      " 12\n"
     ]
    },
    {
     "name": "stdout",
     "output_type": "stream",
     "text": [
      "13\n"
     ]
    }
   ],
   "source": [
    "# exercicio 1071\n",
    "x = int(input())\n",
    "y = int(input())\n",
    "somaImp = 0\n",
    "if x < y:\n",
    "    for i in range(x+1,y):\n",
    "        if i %2 != 0:\n",
    "            somaImp += i \n",
    "    print(somaImp)\n",
    "elif x > y:\n",
    "    for i in range(y+1,x):\n",
    "        if i % 2 != 0:\n",
    "            somaImp += i\n",
    "    print(somaImp)\n",
    "elif x==y:\n",
    "    print(0)"
   ]
  },
  {
   "cell_type": "code",
   "execution_count": 39,
   "metadata": {},
   "outputs": [
    {
     "name": "stdin",
     "output_type": "stream",
     "text": [
      " 4\n",
      " 14\n",
      " 123\n",
      " 10\n",
      " -25\n"
     ]
    },
    {
     "name": "stdout",
     "output_type": "stream",
     "text": [
      "2 in\n",
      "2 out\n"
     ]
    }
   ],
   "source": [
    "# exercicio 1072\n",
    "\n",
    "qtde = int(input())\n",
    "pular = 0\n",
    "intervalo = [i for i in range(10,21)]\n",
    "\n",
    "lista = list()\n",
    "while pular<qtde:\n",
    "    numero = int(input())\n",
    "    lista.append(numero)\n",
    "    pular += 1\n",
    "\n",
    "nIn = 0\n",
    "nOut = 0\n",
    "\n",
    "for i in lista:\n",
    "    if i in intervalo:\n",
    "        nIn += 1\n",
    "    else:\n",
    "        nOut += 1\n",
    "        \n",
    "print(\"{} in\".format(nIn))\n",
    "print(\"{} out\".format(nOut))"
   ]
  },
  {
   "cell_type": "code",
   "execution_count": 42,
   "metadata": {},
   "outputs": [
    {
     "name": "stdin",
     "output_type": "stream",
     "text": [
      " 6\n"
     ]
    },
    {
     "name": "stdout",
     "output_type": "stream",
     "text": [
      "2^2 = 4\n",
      "4^2 = 16\n",
      "6^2 = 36\n"
     ]
    }
   ],
   "source": [
    "# exercicio 1073\n",
    "numero = int(input())\n",
    "\n",
    "for i in range(1,numero+1):\n",
    "    if i % 2 == 0:\n",
    "        res = i ** 2\n",
    "        print(\"{}^2 = {}\".format(i,res))"
   ]
  },
  {
   "cell_type": "code",
   "execution_count": 2,
   "metadata": {},
   "outputs": [
    {
     "name": "stdin",
     "output_type": "stream",
     "text": [
      " 4\n",
      " -5\n"
     ]
    },
    {
     "name": "stdout",
     "output_type": "stream",
     "text": [
      "ODD NEGATIVE\n"
     ]
    },
    {
     "name": "stdin",
     "output_type": "stream",
     "text": [
      " 0\n"
     ]
    },
    {
     "name": "stdout",
     "output_type": "stream",
     "text": [
      "NULL\n"
     ]
    },
    {
     "name": "stdin",
     "output_type": "stream",
     "text": [
      " 3\n"
     ]
    },
    {
     "name": "stdout",
     "output_type": "stream",
     "text": [
      "ODD POSITIVE\n"
     ]
    },
    {
     "name": "stdin",
     "output_type": "stream",
     "text": [
      " -4\n"
     ]
    },
    {
     "name": "stdout",
     "output_type": "stream",
     "text": [
      "EVEN NEGATIVE\n"
     ]
    }
   ],
   "source": [
    "# exercicio 1074\n",
    "qtde = int(input())\n",
    "pular = 0\n",
    "\n",
    "lista = list()\n",
    "while pular<qtde:\n",
    "    numero = int(input())\n",
    "    if numero>0:\n",
    "        if numero % 2 == 0:\n",
    "            print(\"EVEN POSITIVE\")\n",
    "        elif numero % 2 != 0:\n",
    "            print(\"ODD POSITIVE\")\n",
    "    elif numero < 0:\n",
    "        if numero % 2 == 0:\n",
    "            print(\"EVEN NEGATIVE\")\n",
    "        elif numero % 2 != 0:\n",
    "            print(\"ODD NEGATIVE\")\n",
    "    elif numero == 0:\n",
    "        print(\"NULL\")\n",
    "    pular += 1"
   ]
  },
  {
   "cell_type": "code",
   "execution_count": 14,
   "metadata": {},
   "outputs": [
    {
     "name": "stdin",
     "output_type": "stream",
     "text": [
      " 999\n"
     ]
    },
    {
     "name": "stdout",
     "output_type": "stream",
     "text": [
      "2\n",
      "1001\n",
      "2000\n",
      "2999\n",
      "3998\n",
      "4997\n",
      "5996\n",
      "6995\n",
      "7994\n",
      "8993\n",
      "9992\n"
     ]
    }
   ],
   "source": [
    "# exercicio 1075\n",
    "\n",
    "numero = int(input())\n",
    "n = 0\n",
    "while n < 10000:\n",
    "    if n % numero == 2:\n",
    "        print(n)\n",
    "    n += 1"
   ]
  },
  {
   "cell_type": "code",
   "execution_count": 16,
   "metadata": {},
   "outputs": [
    {
     "name": "stdin",
     "output_type": "stream",
     "text": [
      " 10\n"
     ]
    },
    {
     "name": "stdout",
     "output_type": "stream",
     "text": [
      "1 x 10 = 10\n",
      "2 x 10 = 20\n",
      "3 x 10 = 30\n",
      "4 x 10 = 40\n",
      "5 x 10 = 50\n",
      "6 x 10 = 60\n",
      "7 x 10 = 70\n",
      "8 x 10 = 80\n",
      "9 x 10 = 90\n",
      "10 x 10 = 100\n"
     ]
    }
   ],
   "source": [
    "# exercicio 1078\n",
    "\n",
    "num = int(input())\n",
    "\n",
    "for base in range(1,11):\n",
    "    print(\"{} x {} = {}\".format(base,num,(base*num)))"
   ]
  },
  {
   "cell_type": "code",
   "execution_count": 19,
   "metadata": {},
   "outputs": [
    {
     "name": "stdin",
     "output_type": "stream",
     "text": [
      " 3\n",
      " 6.5 4.3 6.2\n"
     ]
    },
    {
     "name": "stdout",
     "output_type": "stream",
     "text": [
      "5.7\n"
     ]
    },
    {
     "name": "stdin",
     "output_type": "stream",
     "text": [
      " 5.1 4.2 8.1\n"
     ]
    },
    {
     "name": "stdout",
     "output_type": "stream",
     "text": [
      "6.3\n"
     ]
    },
    {
     "name": "stdin",
     "output_type": "stream",
     "text": [
      " 8.0 9.0 10.0\n"
     ]
    },
    {
     "name": "stdout",
     "output_type": "stream",
     "text": [
      "9.3\n"
     ]
    }
   ],
   "source": [
    "# exercicio 1079\n",
    "\n",
    "n = int(input())\n",
    "rep = 0\n",
    "\n",
    "while n>rep:\n",
    "    notas = input().split()\n",
    "    n1 = float(notas[0]) * 2\n",
    "    n2 = float(notas[1]) * 3\n",
    "    n3 = float(notas[2]) * 5\n",
    "    media = round((n1 + n2 + n3) / 10,1)\n",
    "    print(media)\n",
    "    rep += 1"
   ]
  },
  {
   "cell_type": "code",
   "execution_count": null,
   "metadata": {},
   "outputs": [],
   "source": [
    "#### exercicio 1080\n",
    "lista = list()\n",
    "num = 0\n",
    "listaPos = list()\n",
    "while num < 100:\n",
    "    numero = int(input())\n",
    "    lista.append(numero)\n",
    "    num += 1\n",
    "    \n",
    "listaPos = lista[:]\n",
    "\n",
    "n = len(lista)\n",
    "for j in range(1,n):\n",
    "    chave = lista[j]\n",
    "    i = j - 1\n",
    "    while i >= 0 and lista[i]>chave:\n",
    "        lista[i+1] = lista[i]\n",
    "        i = i - 1\n",
    "    lista[i+1] = chave\n",
    "    \n",
    "print(lista[-1])\n",
    "print((listaPos.index(lista[-1]))+1)"
   ]
  },
  {
   "cell_type": "code",
   "execution_count": 35,
   "metadata": {},
   "outputs": [
    {
     "name": "stdin",
     "output_type": "stream",
     "text": [
      " 3\n",
      " 10 c\n",
      " 15 r\n",
      " 5 s\n"
     ]
    },
    {
     "name": "stdout",
     "output_type": "stream",
     "text": [
      "Total: 30 cobaias\n",
      "Total de coelhos: 10\n",
      "Total de ratos: 15\n",
      "Total de sapos: 5\n",
      "Percentual de coelhos: 33.33 %\n",
      "Percentual de ratos: 50.0 %\n",
      "Percentual de sapos: 16.67 %\n"
     ]
    }
   ],
   "source": [
    "# exercicio 1094\n",
    "num = int(input())\n",
    "rep = 0 \n",
    "total = 0\n",
    "totalC = 0\n",
    "totalR = 0\n",
    "totalS = 0\n",
    "while num > rep:\n",
    "    cobaia = input().split()\n",
    "    numCobaia = int(cobaia[0])\n",
    "    tipoCobaia = cobaia[1].upper()\n",
    "    total +=numCobaia\n",
    "    if tipoCobaia == \"C\":\n",
    "        totalC += numCobaia\n",
    "    elif tipoCobaia == \"R\":\n",
    "        totalR += numCobaia\n",
    "    elif tipoCobaia == \"S\":\n",
    "        totalS += numCobaia\n",
    "    rep += 1\n",
    "\n",
    "print(\"Total: {} cobaias\".format(total))\n",
    "print(\"Total de coelhos: {}\".format(totalC))\n",
    "print(\"Total de ratos: {}\".format(totalR))\n",
    "print(\"Total de sapos: {}\".format(totalS))\n",
    "\n",
    "\n",
    "print(\"Percentual de coelhos: {:.2f} %\".format(round((totalC / total)*100,2)))\n",
    "print(\"Percentual de ratos: {:.2f} %\".format(round((totalR / total*100),2)))\n",
    "print(\"Percentual de sapos: {:.2f} %\".format(round((totalS / total*100),2)))"
   ]
  },
  {
   "cell_type": "code",
   "execution_count": 42,
   "metadata": {},
   "outputs": [
    {
     "name": "stdout",
     "output_type": "stream",
     "text": [
      "I=1 J=60\n",
      "I=4 J=55\n",
      "I=7 J=50\n",
      "I=10 J=45\n",
      "I=13 J=40\n",
      "I=16 J=35\n",
      "I=19 J=30\n",
      "I=22 J=25\n",
      "I=25 J=20\n",
      "I=28 J=15\n",
      "I=31 J=10\n",
      "I=34 J=5\n",
      "I=37 J=0\n"
     ]
    }
   ],
   "source": [
    "# exercicio 1095\n",
    "x = 60 // 5\n",
    "j = 60\n",
    "i = 1\n",
    "for x in range(0,x+1):\n",
    "    print(\"I={} J={}\".format(i,j))\n",
    "    i += 3\n",
    "    j -= 5"
   ]
  },
  {
   "cell_type": "code",
   "execution_count": 45,
   "metadata": {},
   "outputs": [
    {
     "name": "stdout",
     "output_type": "stream",
     "text": [
      "I=1 J=7\n",
      "I=1 J=6\n",
      "I=1 J=5\n",
      "I=3 J=7\n",
      "I=3 J=6\n",
      "I=3 J=5\n",
      "I=5 J=7\n",
      "I=5 J=6\n",
      "I=5 J=5\n",
      "I=7 J=7\n",
      "I=7 J=6\n",
      "I=7 J=5\n",
      "I=9 J=7\n",
      "I=9 J=6\n",
      "I=9 J=5\n"
     ]
    }
   ],
   "source": [
    "# exercicio 1096\n",
    "\n",
    "for i in range(1,10,2):\n",
    "    for j in range(7,4,-1):\n",
    "        print(\"I={} J={}\".format(i,j))"
   ]
  },
  {
   "cell_type": "code",
   "execution_count": 52,
   "metadata": {},
   "outputs": [
    {
     "name": "stdout",
     "output_type": "stream",
     "text": [
      "I=1 J=7\n",
      "I=1 J=6\n",
      "I=1 J=5\n",
      "I=3 J=9\n",
      "I=3 J=8\n",
      "I=3 J=7\n",
      "I=5 J=11\n",
      "I=5 J=10\n",
      "I=5 J=9\n",
      "I=7 J=13\n",
      "I=7 J=12\n",
      "I=7 J=11\n",
      "I=9 J=15\n",
      "I=9 J=14\n",
      "I=9 J=13\n"
     ]
    }
   ],
   "source": [
    "# exercicio 1097\n",
    "j = 7\n",
    "\n",
    "for i in range(1,10,2):\n",
    "    x = j\n",
    "    for ii in range(0,3):\n",
    "        print(\"I={} J={}\".format(i,x))\n",
    "        x -= 1\n",
    "    j += 2"
   ]
  },
  {
   "cell_type": "code",
   "execution_count": null,
   "metadata": {},
   "outputs": [],
   "source": []
  }
 ],
 "metadata": {
  "kernelspec": {
   "display_name": "Python 3",
   "language": "python",
   "name": "python3"
  },
  "language_info": {
   "codemirror_mode": {
    "name": "ipython",
    "version": 3
   },
   "file_extension": ".py",
   "mimetype": "text/x-python",
   "name": "python",
   "nbconvert_exporter": "python",
   "pygments_lexer": "ipython3",
   "version": "3.8.5"
  }
 },
 "nbformat": 4,
 "nbformat_minor": 4
}
