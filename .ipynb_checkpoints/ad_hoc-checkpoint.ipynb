{
 "cells": [
  {
   "cell_type": "code",
   "execution_count": 1,
   "id": "14ae741d-7da3-4e87-a6fb-028df0386ac9",
   "metadata": {},
   "outputs": [
    {
     "name": "stdin",
     "output_type": "stream",
     "text": [
      " 25\n"
     ]
    },
    {
     "name": "stdout",
     "output_type": "stream",
     "text": [
      "100\n"
     ]
    }
   ],
   "source": [
    "# 2413 - Busca na Internet\n",
    "\n",
    "cliques = int(input()) * 4\n",
    "\n",
    "print(cliques)"
   ]
  },
  {
   "cell_type": "code",
   "execution_count": 2,
   "id": "0283cdcd-3a05-4580-bb5e-c0c06bc4b317",
   "metadata": {},
   "outputs": [
    {
     "name": "stdin",
     "output_type": "stream",
     "text": [
      " 30\n",
      " 12\n"
     ]
    },
    {
     "name": "stdout",
     "output_type": "stream",
     "text": [
      "18\n"
     ]
    }
   ],
   "source": [
    "# 2374 - Pneu\n",
    "\n",
    "desejada = int(input())\n",
    "atual = int(input())\n",
    "\n",
    "print(desejada - atual)"
   ]
  },
  {
   "cell_type": "markdown",
   "id": "d1951d4b-4424-456b-9a1e-b36f6cac1224",
   "metadata": {},
   "source": [
    "## 2022-05-12"
   ]
  },
  {
   "cell_type": "code",
   "execution_count": 4,
   "id": "4f0cecb9-7f40-499a-999b-6277faec2a68",
   "metadata": {},
   "outputs": [
    {
     "name": "stdout",
     "output_type": "stream",
     "text": [
      "[4]\n",
      "[1, 2, 3, 4]\n"
     ]
    }
   ],
   "source": [
    "# Write a fuction that apends a to passed list, if the list does exist create it \n",
    "\n",
    "def append_list(a,l=None):\n",
    "    if not l:\n",
    "        l = []\n",
    "    l.append(a)\n",
    "    return l\n",
    "\n",
    "print(append_list(4))\n",
    "\n",
    "print(append_list(4,[1,2,3]))"
   ]
  },
  {
   "cell_type": "code",
   "execution_count": 17,
   "id": "d9d7368d-2966-4a07-840d-a9c5a338bdbc",
   "metadata": {},
   "outputs": [
    {
     "name": "stdout",
     "output_type": "stream",
     "text": [
      "Looking for Jabberwock\n",
      "\n",
      "the Jabberwock with eyes of flame\n",
      "=== Done ===\n",
      "lucas gosta de lasanha\n"
     ]
    }
   ],
   "source": [
    "# Create a coroutine that prints strings that match a provided pattern.\n",
    "\n",
    "# resposta, entendendo oq é um 'coroutine', estranho esse lance do (yield)\n",
    "# lendo sobre em https://www.geeksforgeeks.org/coroutine-in-python/\n",
    "\n",
    "def match(pattern):\n",
    "        print('Looking for ' + pattern)\n",
    "        try:\n",
    "            while True:\n",
    "                s = (yield)\n",
    "                if pattern in s:\n",
    "                    print(s)\n",
    "        except GeneratorExit:\n",
    "            print(\"=== Done ===\")\n",
    "            \n",
    "m = match(\"Jabberwock\")\n",
    "m.__next__()\n",
    "print()\n",
    "m.send(\"the Jabberwock with eyes of flame\")\n",
    "m.send(\"came whiffling through the tulgey wood\")\n",
    "m.send(\"and burbled as it came\")\n",
    "m.close()\n",
    "\n",
    "def checar(palavra):\n",
    "    try:\n",
    "        while True:\n",
    "            check = (yield)\n",
    "            if palavra in check:\n",
    "                print(check)\n",
    "    except GeneratorExit:\n",
    "        print(\"fechou pai\")\n",
    "        \n",
    "m = checar(\"lucas\")\n",
    "m.__next__()\n",
    "# É preciso chamar a função __next__(), acaba dando um erro, agora é entender o erro kk\n",
    "# TypeError: can't send non-None value to a just-started generator\n",
    "\n",
    "m.send(\"lucas gosta de lasanha\")\n",
    "m.send(\"luucas n gosta de lasanha\")"
   ]
  },
  {
   "cell_type": "code",
   "execution_count": null,
   "id": "2a7b3afa-baed-4b4e-9db4-936f34661cac",
   "metadata": {},
   "outputs": [],
   "source": []
  }
 ],
 "metadata": {
  "kernelspec": {
   "display_name": "Python 3 (ipykernel)",
   "language": "python",
   "name": "python3"
  },
  "language_info": {
   "codemirror_mode": {
    "name": "ipython",
    "version": 3
   },
   "file_extension": ".py",
   "mimetype": "text/x-python",
   "name": "python",
   "nbconvert_exporter": "python",
   "pygments_lexer": "ipython3",
   "version": "3.10.1"
  }
 },
 "nbformat": 4,
 "nbformat_minor": 5
}
