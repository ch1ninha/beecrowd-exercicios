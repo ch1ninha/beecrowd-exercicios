{
 "cells": [
  {
   "cell_type": "code",
   "execution_count": 4,
   "metadata": {},
   "outputs": [
    {
     "name": "stdin",
     "output_type": "stream",
     "text": [
      " 3\n",
      " 3\n",
      " 100 80 90\n"
     ]
    },
    {
     "ename": "IndexError",
     "evalue": "list index out of range",
     "output_type": "error",
     "traceback": [
      "\u001b[1;31m---------------------------------------------------------------------------\u001b[0m",
      "\u001b[1;31mIndexError\u001b[0m                                Traceback (most recent call last)",
      "\u001b[1;32m<ipython-input-4-1faabd74cf77>\u001b[0m in \u001b[0;36m<module>\u001b[1;34m\u001b[0m\n\u001b[0;32m     15\u001b[0m         \u001b[0mchave\u001b[0m \u001b[1;33m=\u001b[0m \u001b[0mlista_ref\u001b[0m\u001b[1;33m[\u001b[0m\u001b[0mj\u001b[0m\u001b[1;33m]\u001b[0m\u001b[1;33m\u001b[0m\u001b[1;33m\u001b[0m\u001b[0m\n\u001b[0;32m     16\u001b[0m         \u001b[0mi\u001b[0m \u001b[1;33m=\u001b[0m \u001b[0mj\u001b[0m \u001b[1;33m-\u001b[0m \u001b[1;36m1\u001b[0m\u001b[1;33m\u001b[0m\u001b[1;33m\u001b[0m\u001b[0m\n\u001b[1;32m---> 17\u001b[1;33m         \u001b[1;32mwhile\u001b[0m \u001b[0mi\u001b[0m \u001b[1;33m<=\u001b[0m \u001b[1;36m0\u001b[0m \u001b[1;32mand\u001b[0m \u001b[0mlista_ref\u001b[0m\u001b[1;33m[\u001b[0m\u001b[0mi\u001b[0m\u001b[1;33m]\u001b[0m\u001b[1;33m>\u001b[0m\u001b[0mchave\u001b[0m\u001b[1;33m:\u001b[0m\u001b[1;33m\u001b[0m\u001b[1;33m\u001b[0m\u001b[0m\n\u001b[0m\u001b[0;32m     18\u001b[0m             \u001b[0mlista_ref\u001b[0m\u001b[1;33m[\u001b[0m\u001b[0mi\u001b[0m\u001b[1;33m+\u001b[0m\u001b[1;36m1\u001b[0m\u001b[1;33m]\u001b[0m \u001b[1;33m=\u001b[0m \u001b[0mlista_ref\u001b[0m\u001b[1;33m[\u001b[0m\u001b[0mi\u001b[0m\u001b[1;33m]\u001b[0m\u001b[1;33m\u001b[0m\u001b[1;33m\u001b[0m\u001b[0m\n\u001b[0;32m     19\u001b[0m             \u001b[0mi\u001b[0m \u001b[1;33m=\u001b[0m \u001b[0mi\u001b[0m\u001b[1;33m-\u001b[0m\u001b[1;36m1\u001b[0m\u001b[1;33m\u001b[0m\u001b[1;33m\u001b[0m\u001b[0m\n",
      "\u001b[1;31mIndexError\u001b[0m: list index out of range"
     ]
    }
   ],
   "source": [
    "# exercicio 1548\n",
    "\n",
    "casos = int(input())\n",
    "rep = 0\n",
    "lista = list()\n",
    "while casos>rep:\n",
    "    b = input()\n",
    "    a = input().split()\n",
    "    for i in a:\n",
    "        lista.append(int(i))\n",
    "    lista_ref = lista[:]\n",
    "    \n",
    "    n = len(lista_ref)\n",
    "    for j in range(1,n):\n",
    "        chave = lista_ref[j]\n",
    "        i = j - 1\n",
    "        while i <= 0 and lista_ref[i]>chave:\n",
    "            lista_ref[i+1] = lista_ref[i]\n",
    "            i = i-1\n",
    "        lista_ref[i+1] = chave\n",
    "    count = 0\n",
    "    alunos = 0\n",
    "    for i in lista_ref:\n",
    "        if i == lista[count]:\n",
    "            alunos += 1\n",
    "            count += 1\n",
    "        count += 1\n",
    "    print(count)\n",
    "    rep += 1"
   ]
  },
  {
   "cell_type": "code",
   "execution_count": null,
   "metadata": {},
   "outputs": [],
   "source": [
    "# 1068 - Balanço de Parenteses I\n",
    "\n",
    "while True:\n",
    "    try:\n",
    "        palavra = input()\n",
    "        pos_aber = list()\n",
    "        pos_fech = list()\n",
    "        aberto = palavra.count(\"(\")\n",
    "        fechado = palavra.count(\")\")\n",
    "        \n",
    "        for n,c in enumerate(palavra):\n",
    "            if c == \"(\":\n",
    "                pos_aber.append(n)\n",
    "            elif c == \")\":\n",
    "                pos_fech.append(n)\n",
    "        \n",
    "        if aberto == fechado:\n",
    "            for a,f in zip(pos_aber,pos_fech):\n",
    "                if a>f:\n",
    "                    print(\"incorrect\")\n",
    "                    break\n",
    "            else:\n",
    "                print(\"correct\")\n",
    "        else:\n",
    "            print(\"incorrect\")\n",
    "    except EOFError:\n",
    "        break"
   ]
  }
 ],
 "metadata": {
  "kernelspec": {
   "display_name": "Python 3 (ipykernel)",
   "language": "python",
   "name": "python3"
  },
  "language_info": {
   "codemirror_mode": {
    "name": "ipython",
    "version": 3
   },
   "file_extension": ".py",
   "mimetype": "text/x-python",
   "name": "python",
   "nbconvert_exporter": "python",
   "pygments_lexer": "ipython3",
   "version": "3.10.1"
  }
 },
 "nbformat": 4,
 "nbformat_minor": 4
}
